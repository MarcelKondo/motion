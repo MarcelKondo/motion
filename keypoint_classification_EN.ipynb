{
  "cells": [
    {
      "cell_type": "code",
      "execution_count": 58,
      "metadata": {
        "id": "igMyGnjE9hEp"
      },
      "outputs": [],
      "source": [
        "import csv\n",
        "\n",
        "import numpy as np\n",
        "import tensorflow as tf\n",
        "from sklearn.model_selection import train_test_split\n",
        "\n",
        "RANDOM_SEED = 42"
      ]
    },
    {
      "cell_type": "markdown",
      "metadata": {
        "id": "t2HDvhIu9hEr"
      },
      "source": [
        "# Specify each path"
      ]
    },
    {
      "cell_type": "code",
      "execution_count": 59,
      "metadata": {
        "id": "9NvZP2Zn9hEy"
      },
      "outputs": [],
      "source": [
        "dataset = 'model/keypoint_classifier/keypoint.csv'\n",
        "model_save_path = 'model/keypoint_classifier/keypoint_classifier.hdf5'\n",
        "tflite_save_path = 'model/keypoint_classifier/keypoint_classifier.tflite'"
      ]
    },
    {
      "cell_type": "markdown",
      "metadata": {
        "id": "s5oMH7x19hEz"
      },
      "source": [
        "# Set number of classes"
      ]
    },
    {
      "cell_type": "code",
      "execution_count": 60,
      "metadata": {
        "id": "du4kodXL9hEz"
      },
      "outputs": [],
      "source": [
        "NUM_CLASSES = 5"
      ]
    },
    {
      "cell_type": "markdown",
      "metadata": {
        "id": "XjnL0uso9hEz"
      },
      "source": [
        "# Dataset reading"
      ]
    },
    {
      "cell_type": "code",
      "execution_count": 61,
      "metadata": {
        "id": "QT5ZqtEz9hE0"
      },
      "outputs": [],
      "source": [
        "X_dataset = np.loadtxt(dataset, delimiter=',', dtype='float32', usecols=list(range(1, (21 * 2) + 1)))"
      ]
    },
    {
      "cell_type": "code",
      "execution_count": 62,
      "metadata": {
        "id": "QmoKFsp49hE0"
      },
      "outputs": [],
      "source": [
        "y_dataset = np.loadtxt(dataset, delimiter=',', dtype='int32', usecols=(0))"
      ]
    },
    {
      "cell_type": "code",
      "execution_count": 63,
      "metadata": {
        "id": "xQU7JTZ_9hE0"
      },
      "outputs": [],
      "source": [
        "X_train, X_test, y_train, y_test = train_test_split(X_dataset, y_dataset, train_size=0.75, random_state=RANDOM_SEED)"
      ]
    },
    {
      "cell_type": "markdown",
      "metadata": {
        "id": "mxK_lETT9hE0"
      },
      "source": [
        "# Model building"
      ]
    },
    {
      "cell_type": "code",
      "execution_count": 64,
      "metadata": {
        "id": "vHBmUf1t9hE1"
      },
      "outputs": [],
      "source": [
        "model = tf.keras.models.Sequential([\n",
        "    tf.keras.layers.Input((21 * 2, )),\n",
        "    tf.keras.layers.Dropout(0.2),\n",
        "    tf.keras.layers.Dense(20, activation='relu'),\n",
        "    tf.keras.layers.Dropout(0.4),\n",
        "    tf.keras.layers.Dense(10, activation='relu'),\n",
        "    tf.keras.layers.Dense(NUM_CLASSES, activation='softmax')\n",
        "])"
      ]
    },
    {
      "cell_type": "code",
      "execution_count": 65,
      "metadata": {
        "colab": {
          "base_uri": "https://localhost:8080/"
        },
        "id": "ypqky9tc9hE1",
        "outputId": "5db082bb-30e3-4110-bf63-a1ee777ecd46"
      },
      "outputs": [
        {
          "name": "stdout",
          "output_type": "stream",
          "text": [
            "Model: \"sequential_3\"\n",
            "_________________________________________________________________\n",
            " Layer (type)                Output Shape              Param #   \n",
            "=================================================================\n",
            " dropout_6 (Dropout)         (None, 42)                0         \n",
            "                                                                 \n",
            " dense_9 (Dense)             (None, 20)                860       \n",
            "                                                                 \n",
            " dropout_7 (Dropout)         (None, 20)                0         \n",
            "                                                                 \n",
            " dense_10 (Dense)            (None, 10)                210       \n",
            "                                                                 \n",
            " dense_11 (Dense)            (None, 5)                 55        \n",
            "                                                                 \n",
            "=================================================================\n",
            "Total params: 1,125\n",
            "Trainable params: 1,125\n",
            "Non-trainable params: 0\n",
            "_________________________________________________________________\n"
          ]
        }
      ],
      "source": [
        "model.summary()  # tf.keras.utils.plot_model(model, show_shapes=True)"
      ]
    },
    {
      "cell_type": "code",
      "execution_count": 66,
      "metadata": {
        "id": "MbMjOflQ9hE1"
      },
      "outputs": [],
      "source": [
        "# Model checkpoint callback\n",
        "cp_callback = tf.keras.callbacks.ModelCheckpoint(\n",
        "    model_save_path, verbose=1, save_weights_only=False)\n",
        "# Callback for early stopping\n",
        "es_callback = tf.keras.callbacks.EarlyStopping(patience=20, verbose=1)"
      ]
    },
    {
      "cell_type": "code",
      "execution_count": 67,
      "metadata": {
        "id": "c3Dac0M_9hE2"
      },
      "outputs": [],
      "source": [
        "# Model compilation\n",
        "model.compile(\n",
        "    optimizer='adam',\n",
        "    loss='sparse_categorical_crossentropy',\n",
        "    metrics=['accuracy']\n",
        ")"
      ]
    },
    {
      "cell_type": "markdown",
      "metadata": {
        "id": "7XI0j1Iu9hE2"
      },
      "source": [
        "# Model training"
      ]
    },
    {
      "cell_type": "code",
      "execution_count": 68,
      "metadata": {
        "colab": {
          "base_uri": "https://localhost:8080/"
        },
        "id": "WirBl-JE9hE3",
        "outputId": "71b30ca2-8294-4d9d-8aa2-800d90d399de",
        "scrolled": true
      },
      "outputs": [
        {
          "name": "stdout",
          "output_type": "stream",
          "text": [
            "Epoch 1/1000\n",
            " 1/30 [>.............................] - ETA: 9s - loss: 1.6318 - accuracy: 0.2422\n",
            "Epoch 1: saving model to model/keypoint_classifier\\keypoint_classifier.hdf5\n",
            "30/30 [==============================] - 1s 7ms/step - loss: 1.5473 - accuracy: 0.3050 - val_loss: 1.4368 - val_accuracy: 0.3582\n",
            "Epoch 2/1000\n",
            " 1/30 [>.............................] - ETA: 0s - loss: 1.4925 - accuracy: 0.3125\n",
            "Epoch 2: saving model to model/keypoint_classifier\\keypoint_classifier.hdf5\n",
            "30/30 [==============================] - 0s 3ms/step - loss: 1.4486 - accuracy: 0.3364 - val_loss: 1.3661 - val_accuracy: 0.3699\n",
            "Epoch 3/1000\n",
            " 1/30 [>.............................] - ETA: 0s - loss: 1.3980 - accuracy: 0.3828\n",
            "Epoch 3: saving model to model/keypoint_classifier\\keypoint_classifier.hdf5\n",
            "30/30 [==============================] - 0s 3ms/step - loss: 1.3928 - accuracy: 0.3610 - val_loss: 1.3122 - val_accuracy: 0.3958\n",
            "Epoch 4/1000\n",
            " 1/30 [>.............................] - ETA: 0s - loss: 1.3492 - accuracy: 0.3516\n",
            "Epoch 4: saving model to model/keypoint_classifier\\keypoint_classifier.hdf5\n",
            "30/30 [==============================] - 0s 3ms/step - loss: 1.3403 - accuracy: 0.3889 - val_loss: 1.2601 - val_accuracy: 0.4381\n",
            "Epoch 5/1000\n",
            " 1/30 [>.............................] - ETA: 0s - loss: 1.2496 - accuracy: 0.4141\n",
            "Epoch 5: saving model to model/keypoint_classifier\\keypoint_classifier.hdf5\n",
            "30/30 [==============================] - 0s 3ms/step - loss: 1.2982 - accuracy: 0.4090 - val_loss: 1.2038 - val_accuracy: 0.4961\n",
            "Epoch 6/1000\n",
            " 1/30 [>.............................] - ETA: 0s - loss: 1.2418 - accuracy: 0.5078\n",
            "Epoch 6: saving model to model/keypoint_classifier\\keypoint_classifier.hdf5\n",
            "30/30 [==============================] - 0s 3ms/step - loss: 1.2520 - accuracy: 0.4550 - val_loss: 1.1426 - val_accuracy: 0.5635\n",
            "Epoch 7/1000\n",
            " 1/30 [>.............................] - ETA: 0s - loss: 1.2383 - accuracy: 0.4219\n",
            "Epoch 7: saving model to model/keypoint_classifier\\keypoint_classifier.hdf5\n",
            "30/30 [==============================] - 0s 3ms/step - loss: 1.2130 - accuracy: 0.4770 - val_loss: 1.0774 - val_accuracy: 0.6332\n",
            "Epoch 8/1000\n",
            " 1/30 [>.............................] - ETA: 0s - loss: 1.1733 - accuracy: 0.5469\n",
            "Epoch 8: saving model to model/keypoint_classifier\\keypoint_classifier.hdf5\n",
            "30/30 [==============================] - 0s 4ms/step - loss: 1.1701 - accuracy: 0.5034 - val_loss: 1.0213 - val_accuracy: 0.6230\n",
            "Epoch 9/1000\n",
            " 1/30 [>.............................] - ETA: 0s - loss: 1.1723 - accuracy: 0.5547\n",
            "Epoch 9: saving model to model/keypoint_classifier\\keypoint_classifier.hdf5\n",
            "30/30 [==============================] - 0s 3ms/step - loss: 1.1283 - accuracy: 0.5233 - val_loss: 0.9567 - val_accuracy: 0.6505\n",
            "Epoch 10/1000\n",
            " 1/30 [>.............................] - ETA: 0s - loss: 1.0121 - accuracy: 0.5938\n",
            "Epoch 10: saving model to model/keypoint_classifier\\keypoint_classifier.hdf5\n",
            "30/30 [==============================] - 0s 3ms/step - loss: 1.0832 - accuracy: 0.5457 - val_loss: 0.9029 - val_accuracy: 0.6834\n",
            "Epoch 11/1000\n",
            " 1/30 [>.............................] - ETA: 0s - loss: 1.1265 - accuracy: 0.5391\n",
            "Epoch 11: saving model to model/keypoint_classifier\\keypoint_classifier.hdf5\n",
            "30/30 [==============================] - 0s 3ms/step - loss: 1.0596 - accuracy: 0.5499 - val_loss: 0.8605 - val_accuracy: 0.6646\n",
            "Epoch 12/1000\n",
            " 1/30 [>.............................] - ETA: 0s - loss: 1.1557 - accuracy: 0.5078\n",
            "Epoch 12: saving model to model/keypoint_classifier\\keypoint_classifier.hdf5\n",
            "30/30 [==============================] - 0s 3ms/step - loss: 1.0363 - accuracy: 0.5541 - val_loss: 0.8088 - val_accuracy: 0.7116\n",
            "Epoch 13/1000\n",
            " 1/30 [>.............................] - ETA: 0s - loss: 1.0174 - accuracy: 0.5625\n",
            "Epoch 13: saving model to model/keypoint_classifier\\keypoint_classifier.hdf5\n",
            "30/30 [==============================] - 0s 3ms/step - loss: 0.9958 - accuracy: 0.5857 - val_loss: 0.7620 - val_accuracy: 0.7759\n",
            "Epoch 14/1000\n",
            " 1/30 [>.............................] - ETA: 0s - loss: 1.0259 - accuracy: 0.5078\n",
            "Epoch 14: saving model to model/keypoint_classifier\\keypoint_classifier.hdf5\n",
            "30/30 [==============================] - 0s 3ms/step - loss: 0.9712 - accuracy: 0.5938 - val_loss: 0.7256 - val_accuracy: 0.8252\n",
            "Epoch 15/1000\n",
            " 1/30 [>.............................] - ETA: 0s - loss: 0.9148 - accuracy: 0.6016\n",
            "Epoch 15: saving model to model/keypoint_classifier\\keypoint_classifier.hdf5\n",
            "30/30 [==============================] - 0s 6ms/step - loss: 0.9372 - accuracy: 0.6121 - val_loss: 0.6789 - val_accuracy: 0.8472\n",
            "Epoch 16/1000\n",
            " 1/30 [>.............................] - ETA: 0s - loss: 0.9002 - accuracy: 0.6484\n",
            "Epoch 16: saving model to model/keypoint_classifier\\keypoint_classifier.hdf5\n",
            "30/30 [==============================] - 0s 4ms/step - loss: 0.9104 - accuracy: 0.6239 - val_loss: 0.6458 - val_accuracy: 0.8676\n",
            "Epoch 17/1000\n",
            " 1/30 [>.............................] - ETA: 0s - loss: 0.9339 - accuracy: 0.6484\n",
            "Epoch 17: saving model to model/keypoint_classifier\\keypoint_classifier.hdf5\n",
            "30/30 [==============================] - 0s 3ms/step - loss: 0.9049 - accuracy: 0.6289 - val_loss: 0.6165 - val_accuracy: 0.8824\n",
            "Epoch 18/1000\n",
            " 1/30 [>.............................] - ETA: 0s - loss: 0.8925 - accuracy: 0.6094\n",
            "Epoch 18: saving model to model/keypoint_classifier\\keypoint_classifier.hdf5\n",
            "30/30 [==============================] - 0s 3ms/step - loss: 0.8808 - accuracy: 0.6424 - val_loss: 0.5926 - val_accuracy: 0.8762\n",
            "Epoch 19/1000\n",
            " 1/30 [>.............................] - ETA: 0s - loss: 0.9113 - accuracy: 0.6328\n",
            "Epoch 19: saving model to model/keypoint_classifier\\keypoint_classifier.hdf5\n",
            "30/30 [==============================] - 0s 3ms/step - loss: 0.8642 - accuracy: 0.6490 - val_loss: 0.5654 - val_accuracy: 0.8832\n",
            "Epoch 20/1000\n",
            " 1/30 [>.............................] - ETA: 0s - loss: 0.7851 - accuracy: 0.6719\n",
            "Epoch 20: saving model to model/keypoint_classifier\\keypoint_classifier.hdf5\n",
            "30/30 [==============================] - 0s 3ms/step - loss: 0.8382 - accuracy: 0.6555 - val_loss: 0.5430 - val_accuracy: 0.8950\n",
            "Epoch 21/1000\n",
            " 1/30 [>.............................] - ETA: 0s - loss: 0.8525 - accuracy: 0.6250\n",
            "Epoch 21: saving model to model/keypoint_classifier\\keypoint_classifier.hdf5\n",
            "30/30 [==============================] - 0s 3ms/step - loss: 0.8215 - accuracy: 0.6641 - val_loss: 0.5158 - val_accuracy: 0.9005\n",
            "Epoch 22/1000\n",
            " 1/30 [>.............................] - ETA: 0s - loss: 0.9210 - accuracy: 0.5703\n",
            "Epoch 22: saving model to model/keypoint_classifier\\keypoint_classifier.hdf5\n",
            "30/30 [==============================] - 0s 3ms/step - loss: 0.8037 - accuracy: 0.6670 - val_loss: 0.4940 - val_accuracy: 0.9075\n",
            "Epoch 23/1000\n",
            " 1/30 [>.............................] - ETA: 0s - loss: 0.8908 - accuracy: 0.6250\n",
            "Epoch 23: saving model to model/keypoint_classifier\\keypoint_classifier.hdf5\n",
            "30/30 [==============================] - 0s 3ms/step - loss: 0.8170 - accuracy: 0.6668 - val_loss: 0.4884 - val_accuracy: 0.9044\n",
            "Epoch 24/1000\n",
            " 1/30 [>.............................] - ETA: 0s - loss: 0.7710 - accuracy: 0.7031\n",
            "Epoch 24: saving model to model/keypoint_classifier\\keypoint_classifier.hdf5\n",
            "30/30 [==============================] - 0s 3ms/step - loss: 0.7879 - accuracy: 0.6809 - val_loss: 0.4710 - val_accuracy: 0.9083\n",
            "Epoch 25/1000\n",
            " 1/30 [>.............................] - ETA: 0s - loss: 0.7160 - accuracy: 0.7266\n",
            "Epoch 25: saving model to model/keypoint_classifier\\keypoint_classifier.hdf5\n",
            "30/30 [==============================] - 0s 3ms/step - loss: 0.7851 - accuracy: 0.6858 - val_loss: 0.4571 - val_accuracy: 0.9185\n",
            "Epoch 26/1000\n",
            " 1/30 [>.............................] - ETA: 0s - loss: 0.7857 - accuracy: 0.6875\n",
            "Epoch 26: saving model to model/keypoint_classifier\\keypoint_classifier.hdf5\n",
            "30/30 [==============================] - 0s 3ms/step - loss: 0.7703 - accuracy: 0.6898 - val_loss: 0.4413 - val_accuracy: 0.9365\n",
            "Epoch 27/1000\n",
            " 1/30 [>.............................] - ETA: 0s - loss: 0.7459 - accuracy: 0.7109\n",
            "Epoch 27: saving model to model/keypoint_classifier\\keypoint_classifier.hdf5\n",
            "30/30 [==============================] - 0s 3ms/step - loss: 0.7876 - accuracy: 0.6806 - val_loss: 0.4347 - val_accuracy: 0.9185\n",
            "Epoch 28/1000\n",
            " 1/30 [>.............................] - ETA: 0s - loss: 0.7491 - accuracy: 0.6953\n",
            "Epoch 28: saving model to model/keypoint_classifier\\keypoint_classifier.hdf5\n",
            "30/30 [==============================] - 0s 3ms/step - loss: 0.7458 - accuracy: 0.7005 - val_loss: 0.4181 - val_accuracy: 0.9263\n",
            "Epoch 29/1000\n",
            " 1/30 [>.............................] - ETA: 0s - loss: 0.7240 - accuracy: 0.7188\n",
            "Epoch 29: saving model to model/keypoint_classifier\\keypoint_classifier.hdf5\n",
            "30/30 [==============================] - 0s 3ms/step - loss: 0.7208 - accuracy: 0.7114 - val_loss: 0.4020 - val_accuracy: 0.9334\n",
            "Epoch 30/1000\n",
            " 1/30 [>.............................] - ETA: 0s - loss: 0.8403 - accuracy: 0.6562\n",
            "Epoch 30: saving model to model/keypoint_classifier\\keypoint_classifier.hdf5\n",
            "30/30 [==============================] - 0s 3ms/step - loss: 0.7320 - accuracy: 0.7073 - val_loss: 0.3880 - val_accuracy: 0.9350\n",
            "Epoch 31/1000\n",
            " 1/30 [>.............................] - ETA: 0s - loss: 0.7849 - accuracy: 0.6641\n",
            "Epoch 31: saving model to model/keypoint_classifier\\keypoint_classifier.hdf5\n",
            "30/30 [==============================] - 0s 3ms/step - loss: 0.7255 - accuracy: 0.7198 - val_loss: 0.3825 - val_accuracy: 0.9451\n",
            "Epoch 32/1000\n",
            " 1/30 [>.............................] - ETA: 0s - loss: 0.7522 - accuracy: 0.7031\n",
            "Epoch 32: saving model to model/keypoint_classifier\\keypoint_classifier.hdf5\n",
            "30/30 [==============================] - 0s 3ms/step - loss: 0.7254 - accuracy: 0.7091 - val_loss: 0.3883 - val_accuracy: 0.9389\n",
            "Epoch 33/1000\n",
            " 1/30 [>.............................] - ETA: 0s - loss: 0.6834 - accuracy: 0.7344\n",
            "Epoch 33: saving model to model/keypoint_classifier\\keypoint_classifier.hdf5\n",
            "30/30 [==============================] - 0s 3ms/step - loss: 0.7283 - accuracy: 0.7091 - val_loss: 0.3761 - val_accuracy: 0.9310\n",
            "Epoch 34/1000\n",
            " 1/30 [>.............................] - ETA: 0s - loss: 0.6695 - accuracy: 0.6953\n",
            "Epoch 34: saving model to model/keypoint_classifier\\keypoint_classifier.hdf5\n",
            "30/30 [==============================] - 0s 3ms/step - loss: 0.7127 - accuracy: 0.7109 - val_loss: 0.3673 - val_accuracy: 0.9459\n",
            "Epoch 35/1000\n",
            " 1/30 [>.............................] - ETA: 0s - loss: 0.6960 - accuracy: 0.7188\n",
            "Epoch 35: saving model to model/keypoint_classifier\\keypoint_classifier.hdf5\n",
            "30/30 [==============================] - 0s 3ms/step - loss: 0.7108 - accuracy: 0.7193 - val_loss: 0.3614 - val_accuracy: 0.9373\n",
            "Epoch 36/1000\n",
            " 1/30 [>.............................] - ETA: 0s - loss: 0.5868 - accuracy: 0.7734\n",
            "Epoch 36: saving model to model/keypoint_classifier\\keypoint_classifier.hdf5\n",
            "30/30 [==============================] - 0s 3ms/step - loss: 0.7114 - accuracy: 0.7190 - val_loss: 0.3528 - val_accuracy: 0.9475\n",
            "Epoch 37/1000\n",
            " 1/30 [>.............................] - ETA: 0s - loss: 0.7063 - accuracy: 0.7109\n",
            "Epoch 37: saving model to model/keypoint_classifier\\keypoint_classifier.hdf5\n",
            "30/30 [==============================] - 0s 3ms/step - loss: 0.6913 - accuracy: 0.7311 - val_loss: 0.3431 - val_accuracy: 0.9545\n",
            "Epoch 38/1000\n",
            " 1/30 [>.............................] - ETA: 0s - loss: 0.6804 - accuracy: 0.7500\n",
            "Epoch 38: saving model to model/keypoint_classifier\\keypoint_classifier.hdf5\n",
            "30/30 [==============================] - 0s 3ms/step - loss: 0.6891 - accuracy: 0.7339 - val_loss: 0.3335 - val_accuracy: 0.9538\n",
            "Epoch 39/1000\n",
            " 1/30 [>.............................] - ETA: 0s - loss: 0.6459 - accuracy: 0.6875\n",
            "Epoch 39: saving model to model/keypoint_classifier\\keypoint_classifier.hdf5\n",
            "30/30 [==============================] - 0s 3ms/step - loss: 0.6629 - accuracy: 0.7384 - val_loss: 0.3377 - val_accuracy: 0.9428\n",
            "Epoch 40/1000\n",
            " 1/30 [>.............................] - ETA: 0s - loss: 0.6550 - accuracy: 0.7500\n",
            "Epoch 40: saving model to model/keypoint_classifier\\keypoint_classifier.hdf5\n",
            "30/30 [==============================] - 0s 3ms/step - loss: 0.6700 - accuracy: 0.7331 - val_loss: 0.3208 - val_accuracy: 0.9553\n",
            "Epoch 41/1000\n",
            " 1/30 [>.............................] - ETA: 0s - loss: 0.6638 - accuracy: 0.6641\n",
            "Epoch 41: saving model to model/keypoint_classifier\\keypoint_classifier.hdf5\n",
            "30/30 [==============================] - 0s 3ms/step - loss: 0.6791 - accuracy: 0.7358 - val_loss: 0.3156 - val_accuracy: 0.9522\n",
            "Epoch 42/1000\n",
            " 1/30 [>.............................] - ETA: 0s - loss: 0.6663 - accuracy: 0.7344\n",
            "Epoch 42: saving model to model/keypoint_classifier\\keypoint_classifier.hdf5\n",
            "30/30 [==============================] - 0s 3ms/step - loss: 0.6671 - accuracy: 0.7473 - val_loss: 0.3137 - val_accuracy: 0.9522\n",
            "Epoch 43/1000\n",
            " 1/30 [>.............................] - ETA: 0s - loss: 0.7939 - accuracy: 0.6406\n",
            "Epoch 43: saving model to model/keypoint_classifier\\keypoint_classifier.hdf5\n",
            "30/30 [==============================] - 0s 3ms/step - loss: 0.6710 - accuracy: 0.7269 - val_loss: 0.3107 - val_accuracy: 0.9553\n",
            "Epoch 44/1000\n",
            " 1/30 [>.............................] - ETA: 0s - loss: 0.6562 - accuracy: 0.7500\n",
            "Epoch 44: saving model to model/keypoint_classifier\\keypoint_classifier.hdf5\n",
            "30/30 [==============================] - 0s 3ms/step - loss: 0.6656 - accuracy: 0.7378 - val_loss: 0.3032 - val_accuracy: 0.9600\n",
            "Epoch 45/1000\n",
            " 1/30 [>.............................] - ETA: 0s - loss: 0.6852 - accuracy: 0.7656\n",
            "Epoch 45: saving model to model/keypoint_classifier\\keypoint_classifier.hdf5\n",
            "30/30 [==============================] - 0s 3ms/step - loss: 0.6596 - accuracy: 0.7365 - val_loss: 0.3012 - val_accuracy: 0.9577\n",
            "Epoch 46/1000\n",
            " 1/30 [>.............................] - ETA: 0s - loss: 0.7139 - accuracy: 0.6953\n",
            "Epoch 46: saving model to model/keypoint_classifier\\keypoint_classifier.hdf5\n",
            "30/30 [==============================] - 0s 3ms/step - loss: 0.6476 - accuracy: 0.7420 - val_loss: 0.2958 - val_accuracy: 0.9585\n",
            "Epoch 47/1000\n",
            " 1/30 [>.............................] - ETA: 0s - loss: 0.6209 - accuracy: 0.7578\n",
            "Epoch 47: saving model to model/keypoint_classifier\\keypoint_classifier.hdf5\n",
            "30/30 [==============================] - 0s 3ms/step - loss: 0.6405 - accuracy: 0.7486 - val_loss: 0.2996 - val_accuracy: 0.9491\n",
            "Epoch 48/1000\n",
            " 1/30 [>.............................] - ETA: 0s - loss: 0.6679 - accuracy: 0.7344\n",
            "Epoch 48: saving model to model/keypoint_classifier\\keypoint_classifier.hdf5\n",
            "30/30 [==============================] - 0s 3ms/step - loss: 0.6898 - accuracy: 0.7292 - val_loss: 0.2973 - val_accuracy: 0.9585\n",
            "Epoch 49/1000\n",
            " 1/30 [>.............................] - ETA: 0s - loss: 0.6930 - accuracy: 0.7266\n",
            "Epoch 49: saving model to model/keypoint_classifier\\keypoint_classifier.hdf5\n",
            "30/30 [==============================] - 0s 3ms/step - loss: 0.6427 - accuracy: 0.7512 - val_loss: 0.2948 - val_accuracy: 0.9538\n",
            "Epoch 50/1000\n",
            " 1/30 [>.............................] - ETA: 0s - loss: 0.6562 - accuracy: 0.7188\n",
            "Epoch 50: saving model to model/keypoint_classifier\\keypoint_classifier.hdf5\n",
            "30/30 [==============================] - 0s 3ms/step - loss: 0.6419 - accuracy: 0.7475 - val_loss: 0.2882 - val_accuracy: 0.9585\n",
            "Epoch 51/1000\n",
            " 1/30 [>.............................] - ETA: 0s - loss: 0.8077 - accuracy: 0.7109\n",
            "Epoch 51: saving model to model/keypoint_classifier\\keypoint_classifier.hdf5\n",
            "30/30 [==============================] - 0s 3ms/step - loss: 0.6326 - accuracy: 0.7572 - val_loss: 0.2779 - val_accuracy: 0.9624\n",
            "Epoch 52/1000\n",
            " 1/30 [>.............................] - ETA: 0s - loss: 0.6725 - accuracy: 0.7812\n",
            "Epoch 52: saving model to model/keypoint_classifier\\keypoint_classifier.hdf5\n",
            "30/30 [==============================] - 0s 3ms/step - loss: 0.6402 - accuracy: 0.7501 - val_loss: 0.2868 - val_accuracy: 0.9545\n",
            "Epoch 53/1000\n",
            " 1/30 [>.............................] - ETA: 0s - loss: 0.6778 - accuracy: 0.7109\n",
            "Epoch 53: saving model to model/keypoint_classifier\\keypoint_classifier.hdf5\n",
            "30/30 [==============================] - 0s 3ms/step - loss: 0.6517 - accuracy: 0.7470 - val_loss: 0.2799 - val_accuracy: 0.9545\n",
            "Epoch 54/1000\n",
            " 1/30 [>.............................] - ETA: 0s - loss: 0.7151 - accuracy: 0.6953\n",
            "Epoch 54: saving model to model/keypoint_classifier\\keypoint_classifier.hdf5\n",
            "30/30 [==============================] - 0s 3ms/step - loss: 0.6366 - accuracy: 0.7551 - val_loss: 0.2701 - val_accuracy: 0.9624\n",
            "Epoch 55/1000\n",
            " 1/30 [>.............................] - ETA: 0s - loss: 0.6276 - accuracy: 0.7734\n",
            "Epoch 55: saving model to model/keypoint_classifier\\keypoint_classifier.hdf5\n",
            "30/30 [==============================] - 0s 3ms/step - loss: 0.6313 - accuracy: 0.7525 - val_loss: 0.2723 - val_accuracy: 0.9592\n",
            "Epoch 56/1000\n",
            " 1/30 [>.............................] - ETA: 0s - loss: 0.6156 - accuracy: 0.7422\n",
            "Epoch 56: saving model to model/keypoint_classifier\\keypoint_classifier.hdf5\n",
            "30/30 [==============================] - 0s 3ms/step - loss: 0.6144 - accuracy: 0.7713 - val_loss: 0.2667 - val_accuracy: 0.9600\n",
            "Epoch 57/1000\n",
            " 1/30 [>.............................] - ETA: 0s - loss: 0.5834 - accuracy: 0.8125\n",
            "Epoch 57: saving model to model/keypoint_classifier\\keypoint_classifier.hdf5\n",
            "30/30 [==============================] - 0s 3ms/step - loss: 0.6124 - accuracy: 0.7726 - val_loss: 0.2680 - val_accuracy: 0.9608\n",
            "Epoch 58/1000\n",
            " 1/30 [>.............................] - ETA: 0s - loss: 0.6490 - accuracy: 0.6875\n",
            "Epoch 58: saving model to model/keypoint_classifier\\keypoint_classifier.hdf5\n",
            "30/30 [==============================] - 0s 3ms/step - loss: 0.5951 - accuracy: 0.7627 - val_loss: 0.2553 - val_accuracy: 0.9569\n",
            "Epoch 59/1000\n",
            " 1/30 [>.............................] - ETA: 0s - loss: 0.6472 - accuracy: 0.7266\n",
            "Epoch 59: saving model to model/keypoint_classifier\\keypoint_classifier.hdf5\n",
            "30/30 [==============================] - 0s 3ms/step - loss: 0.6130 - accuracy: 0.7661 - val_loss: 0.2594 - val_accuracy: 0.9624\n",
            "Epoch 60/1000\n",
            " 1/30 [>.............................] - ETA: 0s - loss: 0.6564 - accuracy: 0.7266\n",
            "Epoch 60: saving model to model/keypoint_classifier\\keypoint_classifier.hdf5\n",
            "30/30 [==============================] - 0s 3ms/step - loss: 0.6074 - accuracy: 0.7687 - val_loss: 0.2532 - val_accuracy: 0.9655\n",
            "Epoch 61/1000\n",
            " 1/30 [>.............................] - ETA: 0s - loss: 0.6817 - accuracy: 0.6953\n",
            "Epoch 61: saving model to model/keypoint_classifier\\keypoint_classifier.hdf5\n",
            "30/30 [==============================] - 0s 3ms/step - loss: 0.6015 - accuracy: 0.7661 - val_loss: 0.2502 - val_accuracy: 0.9632\n",
            "Epoch 62/1000\n",
            " 1/30 [>.............................] - ETA: 0s - loss: 0.6054 - accuracy: 0.7734\n",
            "Epoch 62: saving model to model/keypoint_classifier\\keypoint_classifier.hdf5\n",
            "30/30 [==============================] - 0s 3ms/step - loss: 0.6019 - accuracy: 0.7705 - val_loss: 0.2468 - val_accuracy: 0.9663\n",
            "Epoch 63/1000\n",
            " 1/30 [>.............................] - ETA: 0s - loss: 0.6178 - accuracy: 0.7578\n",
            "Epoch 63: saving model to model/keypoint_classifier\\keypoint_classifier.hdf5\n",
            "30/30 [==============================] - 0s 3ms/step - loss: 0.6077 - accuracy: 0.7595 - val_loss: 0.2540 - val_accuracy: 0.9561\n",
            "Epoch 64/1000\n",
            " 1/30 [>.............................] - ETA: 0s - loss: 0.6629 - accuracy: 0.7188\n",
            "Epoch 64: saving model to model/keypoint_classifier\\keypoint_classifier.hdf5\n",
            "30/30 [==============================] - 0s 3ms/step - loss: 0.6169 - accuracy: 0.7598 - val_loss: 0.2502 - val_accuracy: 0.9647\n",
            "Epoch 65/1000\n",
            " 1/30 [>.............................] - ETA: 0s - loss: 0.6402 - accuracy: 0.7109\n",
            "Epoch 65: saving model to model/keypoint_classifier\\keypoint_classifier.hdf5\n",
            "30/30 [==============================] - 0s 3ms/step - loss: 0.5944 - accuracy: 0.7692 - val_loss: 0.2479 - val_accuracy: 0.9624\n",
            "Epoch 66/1000\n",
            " 1/30 [>.............................] - ETA: 0s - loss: 0.5570 - accuracy: 0.7891\n",
            "Epoch 66: saving model to model/keypoint_classifier\\keypoint_classifier.hdf5\n",
            "30/30 [==============================] - 0s 4ms/step - loss: 0.6130 - accuracy: 0.7606 - val_loss: 0.2516 - val_accuracy: 0.9647\n",
            "Epoch 67/1000\n",
            " 1/30 [>.............................] - ETA: 0s - loss: 0.5718 - accuracy: 0.7812\n",
            "Epoch 67: saving model to model/keypoint_classifier\\keypoint_classifier.hdf5\n",
            "30/30 [==============================] - 0s 3ms/step - loss: 0.5902 - accuracy: 0.7810 - val_loss: 0.2512 - val_accuracy: 0.9514\n",
            "Epoch 68/1000\n",
            " 1/30 [>.............................] - ETA: 0s - loss: 0.6162 - accuracy: 0.8047\n",
            "Epoch 68: saving model to model/keypoint_classifier\\keypoint_classifier.hdf5\n",
            "30/30 [==============================] - 0s 3ms/step - loss: 0.6113 - accuracy: 0.7679 - val_loss: 0.2423 - val_accuracy: 0.9624\n",
            "Epoch 69/1000\n",
            " 1/30 [>.............................] - ETA: 0s - loss: 0.6735 - accuracy: 0.7422\n",
            "Epoch 69: saving model to model/keypoint_classifier\\keypoint_classifier.hdf5\n",
            "30/30 [==============================] - 0s 3ms/step - loss: 0.5913 - accuracy: 0.7784 - val_loss: 0.2408 - val_accuracy: 0.9639\n",
            "Epoch 70/1000\n",
            " 1/30 [>.............................] - ETA: 0s - loss: 0.7011 - accuracy: 0.7344\n",
            "Epoch 70: saving model to model/keypoint_classifier\\keypoint_classifier.hdf5\n",
            "30/30 [==============================] - 0s 3ms/step - loss: 0.5766 - accuracy: 0.7872 - val_loss: 0.2406 - val_accuracy: 0.9632\n",
            "Epoch 71/1000\n",
            " 1/30 [>.............................] - ETA: 0s - loss: 0.6354 - accuracy: 0.7500\n",
            "Epoch 71: saving model to model/keypoint_classifier\\keypoint_classifier.hdf5\n",
            "30/30 [==============================] - 0s 3ms/step - loss: 0.5882 - accuracy: 0.7757 - val_loss: 0.2441 - val_accuracy: 0.9592\n",
            "Epoch 72/1000\n",
            " 1/30 [>.............................] - ETA: 0s - loss: 0.5731 - accuracy: 0.7422\n",
            "Epoch 72: saving model to model/keypoint_classifier\\keypoint_classifier.hdf5\n",
            "30/30 [==============================] - 0s 3ms/step - loss: 0.6022 - accuracy: 0.7658 - val_loss: 0.2366 - val_accuracy: 0.9585\n",
            "Epoch 73/1000\n",
            " 1/30 [>.............................] - ETA: 0s - loss: 0.6440 - accuracy: 0.7500\n",
            "Epoch 73: saving model to model/keypoint_classifier\\keypoint_classifier.hdf5\n",
            "30/30 [==============================] - 0s 3ms/step - loss: 0.5864 - accuracy: 0.7737 - val_loss: 0.2424 - val_accuracy: 0.9561\n",
            "Epoch 74/1000\n",
            " 1/30 [>.............................] - ETA: 0s - loss: 0.5775 - accuracy: 0.7656\n",
            "Epoch 74: saving model to model/keypoint_classifier\\keypoint_classifier.hdf5\n",
            "30/30 [==============================] - 0s 3ms/step - loss: 0.5791 - accuracy: 0.7776 - val_loss: 0.2413 - val_accuracy: 0.9569\n",
            "Epoch 75/1000\n",
            " 1/30 [>.............................] - ETA: 0s - loss: 0.6662 - accuracy: 0.7422\n",
            "Epoch 75: saving model to model/keypoint_classifier\\keypoint_classifier.hdf5\n",
            "30/30 [==============================] - 0s 3ms/step - loss: 0.5998 - accuracy: 0.7734 - val_loss: 0.2329 - val_accuracy: 0.9663\n",
            "Epoch 76/1000\n",
            " 1/30 [>.............................] - ETA: 0s - loss: 0.7123 - accuracy: 0.7266\n",
            "Epoch 76: saving model to model/keypoint_classifier\\keypoint_classifier.hdf5\n",
            "30/30 [==============================] - 0s 3ms/step - loss: 0.5944 - accuracy: 0.7674 - val_loss: 0.2356 - val_accuracy: 0.9679\n",
            "Epoch 77/1000\n",
            " 1/30 [>.............................] - ETA: 0s - loss: 0.5458 - accuracy: 0.7578\n",
            "Epoch 77: saving model to model/keypoint_classifier\\keypoint_classifier.hdf5\n",
            "30/30 [==============================] - 0s 3ms/step - loss: 0.5948 - accuracy: 0.7632 - val_loss: 0.2325 - val_accuracy: 0.9671\n",
            "Epoch 78/1000\n",
            " 1/30 [>.............................] - ETA: 0s - loss: 0.7155 - accuracy: 0.6953\n",
            "Epoch 78: saving model to model/keypoint_classifier\\keypoint_classifier.hdf5\n",
            "30/30 [==============================] - 0s 3ms/step - loss: 0.5814 - accuracy: 0.7791 - val_loss: 0.2259 - val_accuracy: 0.9687\n",
            "Epoch 79/1000\n",
            " 1/30 [>.............................] - ETA: 0s - loss: 0.5517 - accuracy: 0.8125\n",
            "Epoch 79: saving model to model/keypoint_classifier\\keypoint_classifier.hdf5\n",
            "30/30 [==============================] - 0s 3ms/step - loss: 0.5768 - accuracy: 0.7794 - val_loss: 0.2216 - val_accuracy: 0.9663\n",
            "Epoch 80/1000\n",
            " 1/30 [>.............................] - ETA: 0s - loss: 0.5440 - accuracy: 0.8359\n",
            "Epoch 80: saving model to model/keypoint_classifier\\keypoint_classifier.hdf5\n",
            "30/30 [==============================] - 0s 3ms/step - loss: 0.5975 - accuracy: 0.7679 - val_loss: 0.2344 - val_accuracy: 0.9663\n",
            "Epoch 81/1000\n",
            " 1/30 [>.............................] - ETA: 0s - loss: 0.4955 - accuracy: 0.8125\n",
            "Epoch 81: saving model to model/keypoint_classifier\\keypoint_classifier.hdf5\n",
            "30/30 [==============================] - 0s 3ms/step - loss: 0.5549 - accuracy: 0.7938 - val_loss: 0.2311 - val_accuracy: 0.9655\n",
            "Epoch 82/1000\n",
            " 1/30 [>.............................] - ETA: 0s - loss: 0.4799 - accuracy: 0.8203\n",
            "Epoch 82: saving model to model/keypoint_classifier\\keypoint_classifier.hdf5\n",
            "30/30 [==============================] - 0s 3ms/step - loss: 0.5551 - accuracy: 0.7935 - val_loss: 0.2289 - val_accuracy: 0.9608\n",
            "Epoch 83/1000\n",
            " 1/30 [>.............................] - ETA: 0s - loss: 0.4647 - accuracy: 0.8281\n",
            "Epoch 83: saving model to model/keypoint_classifier\\keypoint_classifier.hdf5\n",
            "30/30 [==============================] - 0s 3ms/step - loss: 0.5643 - accuracy: 0.7820 - val_loss: 0.2264 - val_accuracy: 0.9632\n",
            "Epoch 84/1000\n",
            " 1/30 [>.............................] - ETA: 0s - loss: 0.6161 - accuracy: 0.7891\n",
            "Epoch 84: saving model to model/keypoint_classifier\\keypoint_classifier.hdf5\n",
            "30/30 [==============================] - 0s 3ms/step - loss: 0.5647 - accuracy: 0.7859 - val_loss: 0.2196 - val_accuracy: 0.9687\n",
            "Epoch 85/1000\n",
            " 1/30 [>.............................] - ETA: 0s - loss: 0.5396 - accuracy: 0.7734\n",
            "Epoch 85: saving model to model/keypoint_classifier\\keypoint_classifier.hdf5\n",
            "30/30 [==============================] - 0s 3ms/step - loss: 0.5865 - accuracy: 0.7852 - val_loss: 0.2229 - val_accuracy: 0.9663\n",
            "Epoch 86/1000\n",
            " 1/30 [>.............................] - ETA: 0s - loss: 0.6016 - accuracy: 0.7891\n",
            "Epoch 86: saving model to model/keypoint_classifier\\keypoint_classifier.hdf5\n",
            "30/30 [==============================] - 0s 3ms/step - loss: 0.5656 - accuracy: 0.7917 - val_loss: 0.2251 - val_accuracy: 0.9632\n",
            "Epoch 87/1000\n",
            " 1/30 [>.............................] - ETA: 0s - loss: 0.4993 - accuracy: 0.7891\n",
            "Epoch 87: saving model to model/keypoint_classifier\\keypoint_classifier.hdf5\n",
            "30/30 [==============================] - 0s 3ms/step - loss: 0.5644 - accuracy: 0.7870 - val_loss: 0.2175 - val_accuracy: 0.9710\n",
            "Epoch 88/1000\n",
            " 1/30 [>.............................] - ETA: 0s - loss: 0.5996 - accuracy: 0.7969\n",
            "Epoch 88: saving model to model/keypoint_classifier\\keypoint_classifier.hdf5\n",
            "30/30 [==============================] - 0s 3ms/step - loss: 0.5788 - accuracy: 0.7859 - val_loss: 0.2179 - val_accuracy: 0.9679\n",
            "Epoch 89/1000\n",
            " 1/30 [>.............................] - ETA: 0s - loss: 0.6145 - accuracy: 0.7812\n",
            "Epoch 89: saving model to model/keypoint_classifier\\keypoint_classifier.hdf5\n",
            "30/30 [==============================] - 0s 3ms/step - loss: 0.5563 - accuracy: 0.7933 - val_loss: 0.2157 - val_accuracy: 0.9608\n",
            "Epoch 90/1000\n",
            " 1/30 [>.............................] - ETA: 0s - loss: 0.6672 - accuracy: 0.7656\n",
            "Epoch 90: saving model to model/keypoint_classifier\\keypoint_classifier.hdf5\n",
            "30/30 [==============================] - 0s 3ms/step - loss: 0.5796 - accuracy: 0.7810 - val_loss: 0.2204 - val_accuracy: 0.9632\n",
            "Epoch 91/1000\n",
            " 1/30 [>.............................] - ETA: 0s - loss: 0.5007 - accuracy: 0.8281\n",
            "Epoch 91: saving model to model/keypoint_classifier\\keypoint_classifier.hdf5\n",
            "30/30 [==============================] - 0s 3ms/step - loss: 0.5614 - accuracy: 0.7857 - val_loss: 0.2201 - val_accuracy: 0.9663\n",
            "Epoch 92/1000\n",
            " 1/30 [>.............................] - ETA: 0s - loss: 0.6116 - accuracy: 0.7578\n",
            "Epoch 92: saving model to model/keypoint_classifier\\keypoint_classifier.hdf5\n",
            "30/30 [==============================] - 0s 3ms/step - loss: 0.5778 - accuracy: 0.7870 - val_loss: 0.2155 - val_accuracy: 0.9710\n",
            "Epoch 93/1000\n",
            " 1/30 [>.............................] - ETA: 0s - loss: 0.5530 - accuracy: 0.7734\n",
            "Epoch 93: saving model to model/keypoint_classifier\\keypoint_classifier.hdf5\n",
            "30/30 [==============================] - 0s 3ms/step - loss: 0.5803 - accuracy: 0.7870 - val_loss: 0.2232 - val_accuracy: 0.9639\n",
            "Epoch 94/1000\n",
            "28/30 [===========================>..] - ETA: 0s - loss: 0.5641 - accuracy: 0.7905\n",
            "Epoch 94: saving model to model/keypoint_classifier\\keypoint_classifier.hdf5\n",
            "30/30 [==============================] - 0s 4ms/step - loss: 0.5638 - accuracy: 0.7912 - val_loss: 0.2238 - val_accuracy: 0.9655\n",
            "Epoch 95/1000\n",
            " 1/30 [>.............................] - ETA: 0s - loss: 0.6447 - accuracy: 0.7500\n",
            "Epoch 95: saving model to model/keypoint_classifier\\keypoint_classifier.hdf5\n",
            "30/30 [==============================] - 0s 3ms/step - loss: 0.5800 - accuracy: 0.7799 - val_loss: 0.2166 - val_accuracy: 0.9710\n",
            "Epoch 96/1000\n",
            " 1/30 [>.............................] - ETA: 0s - loss: 0.6720 - accuracy: 0.7656\n",
            "Epoch 96: saving model to model/keypoint_classifier\\keypoint_classifier.hdf5\n",
            "30/30 [==============================] - 0s 3ms/step - loss: 0.5715 - accuracy: 0.7880 - val_loss: 0.2210 - val_accuracy: 0.9702\n",
            "Epoch 97/1000\n",
            " 1/30 [>.............................] - ETA: 0s - loss: 0.5448 - accuracy: 0.7422\n",
            "Epoch 97: saving model to model/keypoint_classifier\\keypoint_classifier.hdf5\n",
            "30/30 [==============================] - 0s 3ms/step - loss: 0.5784 - accuracy: 0.7797 - val_loss: 0.2215 - val_accuracy: 0.9624\n",
            "Epoch 98/1000\n",
            " 1/30 [>.............................] - ETA: 0s - loss: 0.5106 - accuracy: 0.8203\n",
            "Epoch 98: saving model to model/keypoint_classifier\\keypoint_classifier.hdf5\n",
            "30/30 [==============================] - 0s 3ms/step - loss: 0.5639 - accuracy: 0.7854 - val_loss: 0.2187 - val_accuracy: 0.9663\n",
            "Epoch 99/1000\n",
            " 1/30 [>.............................] - ETA: 0s - loss: 0.6028 - accuracy: 0.7891\n",
            "Epoch 99: saving model to model/keypoint_classifier\\keypoint_classifier.hdf5\n",
            "30/30 [==============================] - 0s 3ms/step - loss: 0.5450 - accuracy: 0.8089 - val_loss: 0.2122 - val_accuracy: 0.9687\n",
            "Epoch 100/1000\n",
            " 1/30 [>.............................] - ETA: 0s - loss: 0.6073 - accuracy: 0.7266\n",
            "Epoch 100: saving model to model/keypoint_classifier\\keypoint_classifier.hdf5\n",
            "30/30 [==============================] - 0s 3ms/step - loss: 0.5872 - accuracy: 0.7807 - val_loss: 0.2124 - val_accuracy: 0.9687\n",
            "Epoch 101/1000\n",
            " 1/30 [>.............................] - ETA: 0s - loss: 0.7775 - accuracy: 0.7734\n",
            "Epoch 101: saving model to model/keypoint_classifier\\keypoint_classifier.hdf5\n",
            "30/30 [==============================] - 0s 3ms/step - loss: 0.5645 - accuracy: 0.7946 - val_loss: 0.2113 - val_accuracy: 0.9718\n",
            "Epoch 102/1000\n",
            " 1/30 [>.............................] - ETA: 0s - loss: 0.5105 - accuracy: 0.8281\n",
            "Epoch 102: saving model to model/keypoint_classifier\\keypoint_classifier.hdf5\n",
            "30/30 [==============================] - 0s 3ms/step - loss: 0.5726 - accuracy: 0.7904 - val_loss: 0.2065 - val_accuracy: 0.9749\n",
            "Epoch 103/1000\n",
            " 1/30 [>.............................] - ETA: 0s - loss: 0.5288 - accuracy: 0.7812\n",
            "Epoch 103: saving model to model/keypoint_classifier\\keypoint_classifier.hdf5\n",
            "30/30 [==============================] - 0s 3ms/step - loss: 0.5809 - accuracy: 0.7823 - val_loss: 0.2153 - val_accuracy: 0.9647\n",
            "Epoch 104/1000\n",
            " 1/30 [>.............................] - ETA: 0s - loss: 0.4965 - accuracy: 0.8359\n",
            "Epoch 104: saving model to model/keypoint_classifier\\keypoint_classifier.hdf5\n",
            "30/30 [==============================] - 0s 3ms/step - loss: 0.5618 - accuracy: 0.7930 - val_loss: 0.2173 - val_accuracy: 0.9710\n",
            "Epoch 105/1000\n",
            " 1/30 [>.............................] - ETA: 0s - loss: 0.5565 - accuracy: 0.7891\n",
            "Epoch 105: saving model to model/keypoint_classifier\\keypoint_classifier.hdf5\n",
            "30/30 [==============================] - 0s 3ms/step - loss: 0.5620 - accuracy: 0.7974 - val_loss: 0.2095 - val_accuracy: 0.9749\n",
            "Epoch 106/1000\n",
            " 1/30 [>.............................] - ETA: 0s - loss: 0.5606 - accuracy: 0.7656\n",
            "Epoch 106: saving model to model/keypoint_classifier\\keypoint_classifier.hdf5\n",
            "30/30 [==============================] - 0s 3ms/step - loss: 0.5600 - accuracy: 0.7919 - val_loss: 0.2109 - val_accuracy: 0.9694\n",
            "Epoch 107/1000\n",
            " 1/30 [>.............................] - ETA: 0s - loss: 0.6267 - accuracy: 0.7500\n",
            "Epoch 107: saving model to model/keypoint_classifier\\keypoint_classifier.hdf5\n",
            "30/30 [==============================] - 0s 3ms/step - loss: 0.5762 - accuracy: 0.7836 - val_loss: 0.2101 - val_accuracy: 0.9694\n",
            "Epoch 108/1000\n",
            " 1/30 [>.............................] - ETA: 0s - loss: 0.5705 - accuracy: 0.7891\n",
            "Epoch 108: saving model to model/keypoint_classifier\\keypoint_classifier.hdf5\n",
            "30/30 [==============================] - 0s 3ms/step - loss: 0.5747 - accuracy: 0.7862 - val_loss: 0.2114 - val_accuracy: 0.9702\n",
            "Epoch 109/1000\n",
            " 1/30 [>.............................] - ETA: 0s - loss: 0.6649 - accuracy: 0.7422\n",
            "Epoch 109: saving model to model/keypoint_classifier\\keypoint_classifier.hdf5\n",
            "30/30 [==============================] - 0s 3ms/step - loss: 0.5609 - accuracy: 0.7953 - val_loss: 0.2077 - val_accuracy: 0.9726\n",
            "Epoch 110/1000\n",
            " 1/30 [>.............................] - ETA: 0s - loss: 0.5932 - accuracy: 0.7812\n",
            "Epoch 110: saving model to model/keypoint_classifier\\keypoint_classifier.hdf5\n",
            "30/30 [==============================] - 0s 3ms/step - loss: 0.5505 - accuracy: 0.7940 - val_loss: 0.2125 - val_accuracy: 0.9702\n",
            "Epoch 111/1000\n",
            " 1/30 [>.............................] - ETA: 0s - loss: 0.5512 - accuracy: 0.7578\n",
            "Epoch 111: saving model to model/keypoint_classifier\\keypoint_classifier.hdf5\n",
            "30/30 [==============================] - 0s 3ms/step - loss: 0.5814 - accuracy: 0.7737 - val_loss: 0.2130 - val_accuracy: 0.9655\n",
            "Epoch 112/1000\n",
            " 1/30 [>.............................] - ETA: 0s - loss: 0.4850 - accuracy: 0.8047\n",
            "Epoch 112: saving model to model/keypoint_classifier\\keypoint_classifier.hdf5\n",
            "30/30 [==============================] - 0s 3ms/step - loss: 0.5495 - accuracy: 0.7967 - val_loss: 0.2120 - val_accuracy: 0.9687\n",
            "Epoch 113/1000\n",
            " 1/30 [>.............................] - ETA: 0s - loss: 0.4939 - accuracy: 0.8125\n",
            "Epoch 113: saving model to model/keypoint_classifier\\keypoint_classifier.hdf5\n",
            "30/30 [==============================] - 0s 3ms/step - loss: 0.5412 - accuracy: 0.7956 - val_loss: 0.2053 - val_accuracy: 0.9718\n",
            "Epoch 114/1000\n",
            " 1/30 [>.............................] - ETA: 0s - loss: 0.4397 - accuracy: 0.8438\n",
            "Epoch 114: saving model to model/keypoint_classifier\\keypoint_classifier.hdf5\n",
            "30/30 [==============================] - 0s 3ms/step - loss: 0.5513 - accuracy: 0.7893 - val_loss: 0.2053 - val_accuracy: 0.9702\n",
            "Epoch 115/1000\n",
            " 1/30 [>.............................] - ETA: 0s - loss: 0.5559 - accuracy: 0.8203\n",
            "Epoch 115: saving model to model/keypoint_classifier\\keypoint_classifier.hdf5\n",
            "30/30 [==============================] - 0s 3ms/step - loss: 0.5470 - accuracy: 0.7948 - val_loss: 0.2033 - val_accuracy: 0.9734\n",
            "Epoch 116/1000\n",
            " 1/30 [>.............................] - ETA: 0s - loss: 0.4525 - accuracy: 0.8359\n",
            "Epoch 116: saving model to model/keypoint_classifier\\keypoint_classifier.hdf5\n",
            "30/30 [==============================] - 0s 3ms/step - loss: 0.5597 - accuracy: 0.7899 - val_loss: 0.2131 - val_accuracy: 0.9671\n",
            "Epoch 117/1000\n",
            " 1/30 [>.............................] - ETA: 0s - loss: 0.7659 - accuracy: 0.7422\n",
            "Epoch 117: saving model to model/keypoint_classifier\\keypoint_classifier.hdf5\n",
            "30/30 [==============================] - 0s 3ms/step - loss: 0.5591 - accuracy: 0.7946 - val_loss: 0.2057 - val_accuracy: 0.9757\n",
            "Epoch 118/1000\n",
            " 1/30 [>.............................] - ETA: 0s - loss: 0.5709 - accuracy: 0.7578\n",
            "Epoch 118: saving model to model/keypoint_classifier\\keypoint_classifier.hdf5\n",
            "30/30 [==============================] - 0s 3ms/step - loss: 0.5497 - accuracy: 0.8001 - val_loss: 0.2065 - val_accuracy: 0.9741\n",
            "Epoch 119/1000\n",
            " 1/30 [>.............................] - ETA: 0s - loss: 0.5993 - accuracy: 0.7734\n",
            "Epoch 119: saving model to model/keypoint_classifier\\keypoint_classifier.hdf5\n",
            "30/30 [==============================] - 0s 3ms/step - loss: 0.5636 - accuracy: 0.7914 - val_loss: 0.2002 - val_accuracy: 0.9757\n",
            "Epoch 120/1000\n",
            " 1/30 [>.............................] - ETA: 0s - loss: 0.6027 - accuracy: 0.8047\n",
            "Epoch 120: saving model to model/keypoint_classifier\\keypoint_classifier.hdf5\n",
            "30/30 [==============================] - 0s 3ms/step - loss: 0.5360 - accuracy: 0.8003 - val_loss: 0.2072 - val_accuracy: 0.9671\n",
            "Epoch 121/1000\n",
            " 1/30 [>.............................] - ETA: 0s - loss: 0.4848 - accuracy: 0.8281\n",
            "Epoch 121: saving model to model/keypoint_classifier\\keypoint_classifier.hdf5\n",
            "30/30 [==============================] - 0s 3ms/step - loss: 0.5431 - accuracy: 0.7967 - val_loss: 0.1971 - val_accuracy: 0.9749\n",
            "Epoch 122/1000\n",
            "23/30 [======================>.......] - ETA: 0s - loss: 0.5662 - accuracy: 0.7870\n",
            "Epoch 122: saving model to model/keypoint_classifier\\keypoint_classifier.hdf5\n",
            "30/30 [==============================] - 0s 4ms/step - loss: 0.5598 - accuracy: 0.7901 - val_loss: 0.2086 - val_accuracy: 0.9702\n",
            "Epoch 123/1000\n",
            " 1/30 [>.............................] - ETA: 0s - loss: 0.6318 - accuracy: 0.7891\n",
            "Epoch 123: saving model to model/keypoint_classifier\\keypoint_classifier.hdf5\n",
            "30/30 [==============================] - 0s 3ms/step - loss: 0.5526 - accuracy: 0.7953 - val_loss: 0.2036 - val_accuracy: 0.9702\n",
            "Epoch 124/1000\n",
            " 1/30 [>.............................] - ETA: 0s - loss: 0.5729 - accuracy: 0.7891\n",
            "Epoch 124: saving model to model/keypoint_classifier\\keypoint_classifier.hdf5\n",
            "30/30 [==============================] - 0s 3ms/step - loss: 0.5584 - accuracy: 0.7943 - val_loss: 0.2004 - val_accuracy: 0.9710\n",
            "Epoch 125/1000\n",
            " 1/30 [>.............................] - ETA: 0s - loss: 0.5603 - accuracy: 0.7578\n",
            "Epoch 125: saving model to model/keypoint_classifier\\keypoint_classifier.hdf5\n",
            "30/30 [==============================] - 0s 3ms/step - loss: 0.5376 - accuracy: 0.7974 - val_loss: 0.2018 - val_accuracy: 0.9726\n",
            "Epoch 126/1000\n",
            " 1/30 [>.............................] - ETA: 0s - loss: 0.5653 - accuracy: 0.7578\n",
            "Epoch 126: saving model to model/keypoint_classifier\\keypoint_classifier.hdf5\n",
            "30/30 [==============================] - 0s 3ms/step - loss: 0.5360 - accuracy: 0.7998 - val_loss: 0.2034 - val_accuracy: 0.9694\n",
            "Epoch 127/1000\n",
            " 1/30 [>.............................] - ETA: 0s - loss: 0.5828 - accuracy: 0.7734\n",
            "Epoch 127: saving model to model/keypoint_classifier\\keypoint_classifier.hdf5\n",
            "30/30 [==============================] - 0s 3ms/step - loss: 0.5516 - accuracy: 0.7967 - val_loss: 0.2036 - val_accuracy: 0.9687\n",
            "Epoch 128/1000\n",
            " 1/30 [>.............................] - ETA: 0s - loss: 0.4709 - accuracy: 0.8203\n",
            "Epoch 128: saving model to model/keypoint_classifier\\keypoint_classifier.hdf5\n",
            "30/30 [==============================] - 0s 3ms/step - loss: 0.5478 - accuracy: 0.7985 - val_loss: 0.1981 - val_accuracy: 0.9749\n",
            "Epoch 129/1000\n",
            " 1/30 [>.............................] - ETA: 0s - loss: 0.4884 - accuracy: 0.8359\n",
            "Epoch 129: saving model to model/keypoint_classifier\\keypoint_classifier.hdf5\n",
            "30/30 [==============================] - 0s 3ms/step - loss: 0.5453 - accuracy: 0.7872 - val_loss: 0.1956 - val_accuracy: 0.9741\n",
            "Epoch 130/1000\n",
            " 1/30 [>.............................] - ETA: 0s - loss: 0.5122 - accuracy: 0.7812\n",
            "Epoch 130: saving model to model/keypoint_classifier\\keypoint_classifier.hdf5\n",
            "30/30 [==============================] - 0s 4ms/step - loss: 0.5515 - accuracy: 0.7959 - val_loss: 0.2035 - val_accuracy: 0.9671\n",
            "Epoch 131/1000\n",
            "22/30 [=====================>........] - ETA: 0s - loss: 0.5428 - accuracy: 0.8036\n",
            "Epoch 131: saving model to model/keypoint_classifier\\keypoint_classifier.hdf5\n",
            "30/30 [==============================] - 0s 5ms/step - loss: 0.5474 - accuracy: 0.7980 - val_loss: 0.1988 - val_accuracy: 0.9726\n",
            "Epoch 132/1000\n",
            "26/30 [=========================>....] - ETA: 0s - loss: 0.5312 - accuracy: 0.8032\n",
            "Epoch 132: saving model to model/keypoint_classifier\\keypoint_classifier.hdf5\n",
            "30/30 [==============================] - 0s 5ms/step - loss: 0.5194 - accuracy: 0.8100 - val_loss: 0.1974 - val_accuracy: 0.9702\n",
            "Epoch 133/1000\n",
            "20/30 [===================>..........] - ETA: 0s - loss: 0.5666 - accuracy: 0.7918\n",
            "Epoch 133: saving model to model/keypoint_classifier\\keypoint_classifier.hdf5\n",
            "30/30 [==============================] - 0s 5ms/step - loss: 0.5608 - accuracy: 0.7888 - val_loss: 0.2003 - val_accuracy: 0.9694\n",
            "Epoch 134/1000\n",
            " 1/30 [>.............................] - ETA: 0s - loss: 0.4644 - accuracy: 0.8203\n",
            "Epoch 134: saving model to model/keypoint_classifier\\keypoint_classifier.hdf5\n",
            "30/30 [==============================] - 0s 3ms/step - loss: 0.5420 - accuracy: 0.7974 - val_loss: 0.1982 - val_accuracy: 0.9710\n",
            "Epoch 135/1000\n",
            " 1/30 [>.............................] - ETA: 0s - loss: 0.4856 - accuracy: 0.7969\n",
            "Epoch 135: saving model to model/keypoint_classifier\\keypoint_classifier.hdf5\n",
            "30/30 [==============================] - 0s 3ms/step - loss: 0.5329 - accuracy: 0.7959 - val_loss: 0.1947 - val_accuracy: 0.9749\n",
            "Epoch 136/1000\n",
            " 1/30 [>.............................] - ETA: 0s - loss: 0.5620 - accuracy: 0.7812\n",
            "Epoch 136: saving model to model/keypoint_classifier\\keypoint_classifier.hdf5\n",
            "30/30 [==============================] - 0s 3ms/step - loss: 0.5278 - accuracy: 0.8040 - val_loss: 0.1959 - val_accuracy: 0.9757\n",
            "Epoch 137/1000\n",
            " 1/30 [>.............................] - ETA: 0s - loss: 0.5560 - accuracy: 0.7969\n",
            "Epoch 137: saving model to model/keypoint_classifier\\keypoint_classifier.hdf5\n",
            "30/30 [==============================] - 0s 3ms/step - loss: 0.5418 - accuracy: 0.7917 - val_loss: 0.2051 - val_accuracy: 0.9694\n",
            "Epoch 138/1000\n",
            " 1/30 [>.............................] - ETA: 0s - loss: 0.6400 - accuracy: 0.7344\n",
            "Epoch 138: saving model to model/keypoint_classifier\\keypoint_classifier.hdf5\n",
            "30/30 [==============================] - 0s 4ms/step - loss: 0.5233 - accuracy: 0.8063 - val_loss: 0.1958 - val_accuracy: 0.9702\n",
            "Epoch 139/1000\n",
            " 1/30 [>.............................] - ETA: 0s - loss: 0.5533 - accuracy: 0.7578\n",
            "Epoch 139: saving model to model/keypoint_classifier\\keypoint_classifier.hdf5\n",
            "30/30 [==============================] - 0s 4ms/step - loss: 0.5516 - accuracy: 0.7912 - val_loss: 0.1982 - val_accuracy: 0.9702\n",
            "Epoch 140/1000\n",
            " 1/30 [>.............................] - ETA: 0s - loss: 0.6508 - accuracy: 0.7578\n",
            "Epoch 140: saving model to model/keypoint_classifier\\keypoint_classifier.hdf5\n",
            "30/30 [==============================] - 0s 3ms/step - loss: 0.5468 - accuracy: 0.8006 - val_loss: 0.1988 - val_accuracy: 0.9671\n",
            "Epoch 141/1000\n",
            " 1/30 [>.............................] - ETA: 0s - loss: 0.6085 - accuracy: 0.8047\n",
            "Epoch 141: saving model to model/keypoint_classifier\\keypoint_classifier.hdf5\n",
            "30/30 [==============================] - 0s 3ms/step - loss: 0.5290 - accuracy: 0.7935 - val_loss: 0.1973 - val_accuracy: 0.9718\n",
            "Epoch 142/1000\n",
            " 1/30 [>.............................] - ETA: 0s - loss: 0.5111 - accuracy: 0.8281\n",
            "Epoch 142: saving model to model/keypoint_classifier\\keypoint_classifier.hdf5\n",
            "30/30 [==============================] - 0s 3ms/step - loss: 0.5251 - accuracy: 0.8042 - val_loss: 0.1964 - val_accuracy: 0.9702\n",
            "Epoch 143/1000\n",
            " 1/30 [>.............................] - ETA: 0s - loss: 0.4268 - accuracy: 0.8594\n",
            "Epoch 143: saving model to model/keypoint_classifier\\keypoint_classifier.hdf5\n",
            "30/30 [==============================] - 0s 3ms/step - loss: 0.5179 - accuracy: 0.8097 - val_loss: 0.1931 - val_accuracy: 0.9773\n",
            "Epoch 144/1000\n",
            " 1/30 [>.............................] - ETA: 0s - loss: 0.4442 - accuracy: 0.7969\n",
            "Epoch 144: saving model to model/keypoint_classifier\\keypoint_classifier.hdf5\n",
            "30/30 [==============================] - 0s 3ms/step - loss: 0.5116 - accuracy: 0.8089 - val_loss: 0.1924 - val_accuracy: 0.9718\n",
            "Epoch 145/1000\n",
            " 1/30 [>.............................] - ETA: 0s - loss: 0.7147 - accuracy: 0.7656\n",
            "Epoch 145: saving model to model/keypoint_classifier\\keypoint_classifier.hdf5\n",
            "30/30 [==============================] - 0s 3ms/step - loss: 0.5475 - accuracy: 0.7967 - val_loss: 0.2005 - val_accuracy: 0.9663\n",
            "Epoch 146/1000\n",
            " 1/30 [>.............................] - ETA: 0s - loss: 0.5757 - accuracy: 0.7500\n",
            "Epoch 146: saving model to model/keypoint_classifier\\keypoint_classifier.hdf5\n",
            "30/30 [==============================] - 0s 3ms/step - loss: 0.5359 - accuracy: 0.7943 - val_loss: 0.1947 - val_accuracy: 0.9726\n",
            "Epoch 147/1000\n",
            " 1/30 [>.............................] - ETA: 0s - loss: 0.6592 - accuracy: 0.7344\n",
            "Epoch 147: saving model to model/keypoint_classifier\\keypoint_classifier.hdf5\n",
            "30/30 [==============================] - 0s 3ms/step - loss: 0.5256 - accuracy: 0.7964 - val_loss: 0.1959 - val_accuracy: 0.9710\n",
            "Epoch 148/1000\n",
            " 1/30 [>.............................] - ETA: 0s - loss: 0.5817 - accuracy: 0.7734\n",
            "Epoch 148: saving model to model/keypoint_classifier\\keypoint_classifier.hdf5\n",
            "30/30 [==============================] - 0s 3ms/step - loss: 0.5351 - accuracy: 0.7985 - val_loss: 0.1930 - val_accuracy: 0.9710\n",
            "Epoch 149/1000\n",
            " 1/30 [>.............................] - ETA: 0s - loss: 0.4950 - accuracy: 0.8047\n",
            "Epoch 149: saving model to model/keypoint_classifier\\keypoint_classifier.hdf5\n",
            "30/30 [==============================] - 0s 3ms/step - loss: 0.5237 - accuracy: 0.8087 - val_loss: 0.1879 - val_accuracy: 0.9726\n",
            "Epoch 150/1000\n",
            " 1/30 [>.............................] - ETA: 0s - loss: 0.6637 - accuracy: 0.7266\n",
            "Epoch 150: saving model to model/keypoint_classifier\\keypoint_classifier.hdf5\n",
            "30/30 [==============================] - 0s 3ms/step - loss: 0.5378 - accuracy: 0.7987 - val_loss: 0.1958 - val_accuracy: 0.9608\n",
            "Epoch 151/1000\n",
            " 1/30 [>.............................] - ETA: 0s - loss: 0.4430 - accuracy: 0.8359\n",
            "Epoch 151: saving model to model/keypoint_classifier\\keypoint_classifier.hdf5\n",
            "30/30 [==============================] - 0s 2ms/step - loss: 0.5585 - accuracy: 0.7893 - val_loss: 0.2012 - val_accuracy: 0.9679\n",
            "Epoch 152/1000\n",
            " 1/30 [>.............................] - ETA: 0s - loss: 0.4785 - accuracy: 0.8828\n",
            "Epoch 152: saving model to model/keypoint_classifier\\keypoint_classifier.hdf5\n",
            "30/30 [==============================] - 0s 3ms/step - loss: 0.5381 - accuracy: 0.7946 - val_loss: 0.2020 - val_accuracy: 0.9694\n",
            "Epoch 153/1000\n",
            " 1/30 [>.............................] - ETA: 0s - loss: 0.4304 - accuracy: 0.8672\n",
            "Epoch 153: saving model to model/keypoint_classifier\\keypoint_classifier.hdf5\n",
            "30/30 [==============================] - 0s 3ms/step - loss: 0.5461 - accuracy: 0.8001 - val_loss: 0.1969 - val_accuracy: 0.9726\n",
            "Epoch 154/1000\n",
            " 1/30 [>.............................] - ETA: 0s - loss: 0.5468 - accuracy: 0.8516\n",
            "Epoch 154: saving model to model/keypoint_classifier\\keypoint_classifier.hdf5\n",
            "30/30 [==============================] - 0s 3ms/step - loss: 0.5163 - accuracy: 0.8048 - val_loss: 0.1968 - val_accuracy: 0.9749\n",
            "Epoch 155/1000\n",
            " 1/30 [>.............................] - ETA: 0s - loss: 0.6103 - accuracy: 0.7344\n",
            "Epoch 155: saving model to model/keypoint_classifier\\keypoint_classifier.hdf5\n",
            "30/30 [==============================] - 0s 3ms/step - loss: 0.5309 - accuracy: 0.7977 - val_loss: 0.1967 - val_accuracy: 0.9741\n",
            "Epoch 156/1000\n",
            " 1/30 [>.............................] - ETA: 0s - loss: 0.6281 - accuracy: 0.7969\n",
            "Epoch 156: saving model to model/keypoint_classifier\\keypoint_classifier.hdf5\n",
            "30/30 [==============================] - 0s 3ms/step - loss: 0.5441 - accuracy: 0.7990 - val_loss: 0.1923 - val_accuracy: 0.9765\n",
            "Epoch 157/1000\n",
            " 1/30 [>.............................] - ETA: 0s - loss: 0.5220 - accuracy: 0.8203\n",
            "Epoch 157: saving model to model/keypoint_classifier\\keypoint_classifier.hdf5\n",
            "30/30 [==============================] - 0s 3ms/step - loss: 0.5233 - accuracy: 0.8042 - val_loss: 0.1968 - val_accuracy: 0.9694\n",
            "Epoch 158/1000\n",
            " 1/30 [>.............................] - ETA: 0s - loss: 0.6385 - accuracy: 0.8125\n",
            "Epoch 158: saving model to model/keypoint_classifier\\keypoint_classifier.hdf5\n",
            "30/30 [==============================] - 0s 3ms/step - loss: 0.5328 - accuracy: 0.8040 - val_loss: 0.1871 - val_accuracy: 0.9757\n",
            "Epoch 159/1000\n",
            " 1/30 [>.............................] - ETA: 0s - loss: 0.4899 - accuracy: 0.8516\n",
            "Epoch 159: saving model to model/keypoint_classifier\\keypoint_classifier.hdf5\n",
            "30/30 [==============================] - 0s 3ms/step - loss: 0.5177 - accuracy: 0.8037 - val_loss: 0.1843 - val_accuracy: 0.9804\n",
            "Epoch 160/1000\n",
            " 1/30 [>.............................] - ETA: 0s - loss: 0.5659 - accuracy: 0.8281\n",
            "Epoch 160: saving model to model/keypoint_classifier\\keypoint_classifier.hdf5\n",
            "30/30 [==============================] - 0s 3ms/step - loss: 0.5183 - accuracy: 0.8084 - val_loss: 0.1883 - val_accuracy: 0.9718\n",
            "Epoch 161/1000\n",
            " 1/30 [>.............................] - ETA: 0s - loss: 0.5941 - accuracy: 0.7344\n",
            "Epoch 161: saving model to model/keypoint_classifier\\keypoint_classifier.hdf5\n",
            "30/30 [==============================] - 0s 3ms/step - loss: 0.5366 - accuracy: 0.7951 - val_loss: 0.1953 - val_accuracy: 0.9710\n",
            "Epoch 162/1000\n",
            " 1/30 [>.............................] - ETA: 0s - loss: 0.6368 - accuracy: 0.7734\n",
            "Epoch 162: saving model to model/keypoint_classifier\\keypoint_classifier.hdf5\n",
            "30/30 [==============================] - 0s 3ms/step - loss: 0.5427 - accuracy: 0.8076 - val_loss: 0.1957 - val_accuracy: 0.9702\n",
            "Epoch 163/1000\n",
            " 1/30 [>.............................] - ETA: 0s - loss: 0.6327 - accuracy: 0.7891\n",
            "Epoch 163: saving model to model/keypoint_classifier\\keypoint_classifier.hdf5\n",
            "30/30 [==============================] - 0s 3ms/step - loss: 0.5337 - accuracy: 0.8050 - val_loss: 0.1945 - val_accuracy: 0.9741\n",
            "Epoch 164/1000\n",
            " 1/30 [>.............................] - ETA: 0s - loss: 0.5566 - accuracy: 0.8047\n",
            "Epoch 164: saving model to model/keypoint_classifier\\keypoint_classifier.hdf5\n",
            "30/30 [==============================] - 0s 3ms/step - loss: 0.5395 - accuracy: 0.8045 - val_loss: 0.1965 - val_accuracy: 0.9726\n",
            "Epoch 165/1000\n",
            " 1/30 [>.............................] - ETA: 0s - loss: 0.6321 - accuracy: 0.7578\n",
            "Epoch 165: saving model to model/keypoint_classifier\\keypoint_classifier.hdf5\n",
            "30/30 [==============================] - 0s 3ms/step - loss: 0.5227 - accuracy: 0.8029 - val_loss: 0.1867 - val_accuracy: 0.9773\n",
            "Epoch 166/1000\n",
            " 1/30 [>.............................] - ETA: 0s - loss: 0.4903 - accuracy: 0.8438\n",
            "Epoch 166: saving model to model/keypoint_classifier\\keypoint_classifier.hdf5\n",
            "30/30 [==============================] - 0s 3ms/step - loss: 0.5240 - accuracy: 0.8082 - val_loss: 0.1914 - val_accuracy: 0.9702\n",
            "Epoch 167/1000\n",
            " 1/30 [>.............................] - ETA: 0s - loss: 0.6185 - accuracy: 0.7578\n",
            "Epoch 167: saving model to model/keypoint_classifier\\keypoint_classifier.hdf5\n",
            "30/30 [==============================] - 0s 3ms/step - loss: 0.4963 - accuracy: 0.8210 - val_loss: 0.1865 - val_accuracy: 0.9741\n",
            "Epoch 168/1000\n",
            " 1/30 [>.............................] - ETA: 0s - loss: 0.5009 - accuracy: 0.8125\n",
            "Epoch 168: saving model to model/keypoint_classifier\\keypoint_classifier.hdf5\n",
            "30/30 [==============================] - 0s 3ms/step - loss: 0.5209 - accuracy: 0.8082 - val_loss: 0.1835 - val_accuracy: 0.9741\n",
            "Epoch 169/1000\n",
            " 1/30 [>.............................] - ETA: 0s - loss: 0.4964 - accuracy: 0.8359\n",
            "Epoch 169: saving model to model/keypoint_classifier\\keypoint_classifier.hdf5\n",
            "30/30 [==============================] - 0s 3ms/step - loss: 0.5325 - accuracy: 0.7985 - val_loss: 0.1814 - val_accuracy: 0.9734\n",
            "Epoch 170/1000\n",
            " 1/30 [>.............................] - ETA: 0s - loss: 0.5227 - accuracy: 0.7500\n",
            "Epoch 170: saving model to model/keypoint_classifier\\keypoint_classifier.hdf5\n",
            "30/30 [==============================] - 0s 2ms/step - loss: 0.5346 - accuracy: 0.7956 - val_loss: 0.1879 - val_accuracy: 0.9694\n",
            "Epoch 171/1000\n",
            " 1/30 [>.............................] - ETA: 0s - loss: 0.4844 - accuracy: 0.8281\n",
            "Epoch 171: saving model to model/keypoint_classifier\\keypoint_classifier.hdf5\n",
            "30/30 [==============================] - 0s 3ms/step - loss: 0.5294 - accuracy: 0.8037 - val_loss: 0.1858 - val_accuracy: 0.9781\n",
            "Epoch 172/1000\n",
            " 1/30 [>.............................] - ETA: 0s - loss: 0.6576 - accuracy: 0.7344\n",
            "Epoch 172: saving model to model/keypoint_classifier\\keypoint_classifier.hdf5\n",
            "30/30 [==============================] - 0s 3ms/step - loss: 0.5354 - accuracy: 0.8001 - val_loss: 0.1972 - val_accuracy: 0.9663\n",
            "Epoch 173/1000\n",
            " 1/30 [>.............................] - ETA: 0s - loss: 0.6222 - accuracy: 0.8125\n",
            "Epoch 173: saving model to model/keypoint_classifier\\keypoint_classifier.hdf5\n",
            "30/30 [==============================] - 0s 3ms/step - loss: 0.5441 - accuracy: 0.7938 - val_loss: 0.1949 - val_accuracy: 0.9710\n",
            "Epoch 174/1000\n",
            " 1/30 [>.............................] - ETA: 0s - loss: 0.6050 - accuracy: 0.7891\n",
            "Epoch 174: saving model to model/keypoint_classifier\\keypoint_classifier.hdf5\n",
            "30/30 [==============================] - 0s 3ms/step - loss: 0.5501 - accuracy: 0.7857 - val_loss: 0.1952 - val_accuracy: 0.9710\n",
            "Epoch 175/1000\n",
            " 1/30 [>.............................] - ETA: 0s - loss: 0.5043 - accuracy: 0.8125\n",
            "Epoch 175: saving model to model/keypoint_classifier\\keypoint_classifier.hdf5\n",
            "30/30 [==============================] - 0s 3ms/step - loss: 0.5341 - accuracy: 0.8048 - val_loss: 0.1953 - val_accuracy: 0.9694\n",
            "Epoch 176/1000\n",
            " 1/30 [>.............................] - ETA: 0s - loss: 0.4139 - accuracy: 0.8438\n",
            "Epoch 176: saving model to model/keypoint_classifier\\keypoint_classifier.hdf5\n",
            "30/30 [==============================] - 0s 3ms/step - loss: 0.5098 - accuracy: 0.8121 - val_loss: 0.1851 - val_accuracy: 0.9765\n",
            "Epoch 177/1000\n",
            " 1/30 [>.............................] - ETA: 0s - loss: 0.6249 - accuracy: 0.7656\n",
            "Epoch 177: saving model to model/keypoint_classifier\\keypoint_classifier.hdf5\n",
            "30/30 [==============================] - 0s 3ms/step - loss: 0.5182 - accuracy: 0.8037 - val_loss: 0.1878 - val_accuracy: 0.9757\n",
            "Epoch 178/1000\n",
            " 1/30 [>.............................] - ETA: 0s - loss: 0.6666 - accuracy: 0.7422\n",
            "Epoch 178: saving model to model/keypoint_classifier\\keypoint_classifier.hdf5\n",
            "30/30 [==============================] - 0s 3ms/step - loss: 0.5423 - accuracy: 0.7985 - val_loss: 0.1950 - val_accuracy: 0.9726\n",
            "Epoch 179/1000\n",
            " 1/30 [>.............................] - ETA: 0s - loss: 0.4353 - accuracy: 0.8516\n",
            "Epoch 179: saving model to model/keypoint_classifier\\keypoint_classifier.hdf5\n",
            "30/30 [==============================] - 0s 3ms/step - loss: 0.5273 - accuracy: 0.7967 - val_loss: 0.1881 - val_accuracy: 0.9741\n",
            "Epoch 180/1000\n",
            " 1/30 [>.............................] - ETA: 0s - loss: 0.6072 - accuracy: 0.8047\n",
            "Epoch 180: saving model to model/keypoint_classifier\\keypoint_classifier.hdf5\n",
            "30/30 [==============================] - 0s 3ms/step - loss: 0.5477 - accuracy: 0.7982 - val_loss: 0.1941 - val_accuracy: 0.9757\n",
            "Epoch 181/1000\n",
            " 1/30 [>.............................] - ETA: 0s - loss: 0.5121 - accuracy: 0.8203\n",
            "Epoch 181: saving model to model/keypoint_classifier\\keypoint_classifier.hdf5\n",
            "30/30 [==============================] - 0s 3ms/step - loss: 0.5198 - accuracy: 0.8050 - val_loss: 0.1902 - val_accuracy: 0.9741\n",
            "Epoch 182/1000\n",
            " 1/30 [>.............................] - ETA: 0s - loss: 0.6251 - accuracy: 0.7734\n",
            "Epoch 182: saving model to model/keypoint_classifier\\keypoint_classifier.hdf5\n",
            "30/30 [==============================] - 0s 3ms/step - loss: 0.5336 - accuracy: 0.8048 - val_loss: 0.1899 - val_accuracy: 0.9718\n",
            "Epoch 183/1000\n",
            " 1/30 [>.............................] - ETA: 0s - loss: 0.4195 - accuracy: 0.8281\n",
            "Epoch 183: saving model to model/keypoint_classifier\\keypoint_classifier.hdf5\n",
            "30/30 [==============================] - 0s 3ms/step - loss: 0.5213 - accuracy: 0.8006 - val_loss: 0.1834 - val_accuracy: 0.9757\n",
            "Epoch 184/1000\n",
            " 1/30 [>.............................] - ETA: 0s - loss: 0.4157 - accuracy: 0.8516\n",
            "Epoch 184: saving model to model/keypoint_classifier\\keypoint_classifier.hdf5\n",
            "30/30 [==============================] - 0s 3ms/step - loss: 0.5257 - accuracy: 0.8076 - val_loss: 0.1853 - val_accuracy: 0.9741\n",
            "Epoch 185/1000\n",
            " 1/30 [>.............................] - ETA: 0s - loss: 0.5652 - accuracy: 0.8203\n",
            "Epoch 185: saving model to model/keypoint_classifier\\keypoint_classifier.hdf5\n",
            "30/30 [==============================] - 0s 3ms/step - loss: 0.5208 - accuracy: 0.8035 - val_loss: 0.1904 - val_accuracy: 0.9718\n",
            "Epoch 186/1000\n",
            " 1/30 [>.............................] - ETA: 0s - loss: 0.5752 - accuracy: 0.7969\n",
            "Epoch 186: saving model to model/keypoint_classifier\\keypoint_classifier.hdf5\n",
            "30/30 [==============================] - 0s 3ms/step - loss: 0.5260 - accuracy: 0.8089 - val_loss: 0.1881 - val_accuracy: 0.9773\n",
            "Epoch 187/1000\n",
            " 1/30 [>.............................] - ETA: 0s - loss: 0.5539 - accuracy: 0.7734\n",
            "Epoch 187: saving model to model/keypoint_classifier\\keypoint_classifier.hdf5\n",
            "30/30 [==============================] - 0s 3ms/step - loss: 0.5108 - accuracy: 0.8063 - val_loss: 0.1945 - val_accuracy: 0.9702\n",
            "Epoch 188/1000\n",
            " 1/30 [>.............................] - ETA: 0s - loss: 0.5947 - accuracy: 0.7656\n",
            "Epoch 188: saving model to model/keypoint_classifier\\keypoint_classifier.hdf5\n",
            "30/30 [==============================] - 0s 3ms/step - loss: 0.5375 - accuracy: 0.8001 - val_loss: 0.1898 - val_accuracy: 0.9734\n",
            "Epoch 189/1000\n",
            " 1/30 [>.............................] - ETA: 0s - loss: 0.5314 - accuracy: 0.8203\n",
            "Epoch 189: saving model to model/keypoint_classifier\\keypoint_classifier.hdf5\n",
            "30/30 [==============================] - 0s 3ms/step - loss: 0.5189 - accuracy: 0.8074 - val_loss: 0.1893 - val_accuracy: 0.9702\n",
            "Epoch 189: early stopping\n"
          ]
        },
        {
          "data": {
            "text/plain": [
              "<keras.callbacks.History at 0x26124a47f70>"
            ]
          },
          "execution_count": 68,
          "metadata": {},
          "output_type": "execute_result"
        }
      ],
      "source": [
        "model.fit(\n",
        "    X_train,\n",
        "    y_train,\n",
        "    epochs=1000,\n",
        "    batch_size=128,\n",
        "    validation_data=(X_test, y_test),\n",
        "    callbacks=[cp_callback, es_callback]\n",
        ")"
      ]
    },
    {
      "cell_type": "code",
      "execution_count": 69,
      "metadata": {
        "colab": {
          "base_uri": "https://localhost:8080/"
        },
        "id": "pxvb2Y299hE3",
        "outputId": "59eb3185-2e37-4b9e-bc9d-ab1b8ac29b7f"
      },
      "outputs": [
        {
          "name": "stdout",
          "output_type": "stream",
          "text": [
            "10/10 [==============================] - 0s 1ms/step - loss: 0.1893 - accuracy: 0.9702\n"
          ]
        }
      ],
      "source": [
        "# Model evaluation\n",
        "val_loss, val_acc = model.evaluate(X_test, y_test, batch_size=128)"
      ]
    },
    {
      "cell_type": "code",
      "execution_count": 70,
      "metadata": {
        "id": "RBkmDeUW9hE4"
      },
      "outputs": [],
      "source": [
        "# Loading the saved model\n",
        "model = tf.keras.models.load_model(model_save_path)"
      ]
    },
    {
      "cell_type": "code",
      "execution_count": 71,
      "metadata": {
        "colab": {
          "base_uri": "https://localhost:8080/"
        },
        "id": "tFz9Tb0I9hE4",
        "outputId": "1c3b3528-54ae-4ee2-ab04-77429211cbef"
      },
      "outputs": [
        {
          "name": "stdout",
          "output_type": "stream",
          "text": [
            "1/1 [==============================] - 0s 45ms/step\n",
            "[2.5321841e-01 1.8164635e-02 7.5844159e-06 7.2860932e-01 1.2994472e-14]\n",
            "3\n"
          ]
        }
      ],
      "source": [
        "# Inference test\n",
        "predict_result = model.predict(np.array([X_test[0]]))\n",
        "print(np.squeeze(predict_result))\n",
        "print(np.argmax(np.squeeze(predict_result)))"
      ]
    },
    {
      "cell_type": "markdown",
      "metadata": {
        "id": "S3U4yNWx9hE4"
      },
      "source": [
        "# Confusion matrix"
      ]
    },
    {
      "cell_type": "code",
      "execution_count": 72,
      "metadata": {
        "colab": {
          "base_uri": "https://localhost:8080/",
          "height": 582
        },
        "id": "AP1V6SCk9hE5",
        "outputId": "08e41a80-7a4a-4619-8125-ecc371368d19"
      },
      "outputs": [
        {
          "name": "stdout",
          "output_type": "stream",
          "text": [
            "40/40 [==============================] - 0s 795us/step\n"
          ]
        },
        {
          "data": {
            "image/png": "[encoded data removed]",
            "text/plain": [
              "<Figure size 700x600 with 2 Axes>"
            ]
          },
          "metadata": {},
          "output_type": "display_data"
        },
        {
          "name": "stdout",
          "output_type": "stream",
          "text": [
            "Classification Report\n",
            "              precision    recall  f1-score   support\n",
            "\n",
            "           0       0.97      0.99      0.98       399\n",
            "           1       0.99      0.94      0.96       380\n",
            "           2       0.94      0.98      0.96       321\n",
            "           3       1.00      0.94      0.97        94\n",
            "           4       1.00      1.00      1.00        82\n",
            "\n",
            "    accuracy                           0.97      1276\n",
            "   macro avg       0.98      0.97      0.97      1276\n",
            "weighted avg       0.97      0.97      0.97      1276\n",
            "\n"
          ]
        }
      ],
      "source": [
        "import pandas as pd\n",
        "import seaborn as sns\n",
        "import matplotlib.pyplot as plt\n",
        "from sklearn.metrics import confusion_matrix, classification_report\n",
        "\n",
        "def print_confusion_matrix(y_true, y_pred, report=True):\n",
        "    labels = sorted(list(set(y_true)))\n",
        "    cmx_data = confusion_matrix(y_true, y_pred, labels=labels)\n",
        "    \n",
        "    df_cmx = pd.DataFrame(cmx_data, index=labels, columns=labels)\n",
        " \n",
        "    fig, ax = plt.subplots(figsize=(7, 6))\n",
        "    sns.heatmap(df_cmx, annot=True, fmt='g' ,square=False)\n",
        "    ax.set_ylim(len(set(y_true)), 0)\n",
        "    plt.show()\n",
        "    \n",
        "    if report:\n",
        "        print('Classification Report')\n",
        "        print(classification_report(y_test, y_pred))\n",
        "\n",
        "Y_pred = model.predict(X_test)\n",
        "y_pred = np.argmax(Y_pred, axis=1)\n",
        "\n",
        "print_confusion_matrix(y_test, y_pred)"
      ]
    },
    {
      "cell_type": "markdown",
      "metadata": {
        "id": "FNP6aqzc9hE5"
      },
      "source": [
        "# Convert to model for Tensorflow-Lite"
      ]
    },
    {
      "cell_type": "code",
      "execution_count": 73,
      "metadata": {
        "id": "ODjnYyld9hE6"
      },
      "outputs": [],
      "source": [
        "# Save as a model dedicated to inference\n",
        "model.save(model_save_path, include_optimizer=False)"
      ]
    },
    {
      "cell_type": "code",
      "execution_count": 74,
      "metadata": {
        "colab": {
          "base_uri": "https://localhost:8080/"
        },
        "id": "zRfuK8Y59hE6",
        "outputId": "a4ca585c-b5d5-4244-8291-8674063209bb"
      },
      "outputs": [
        {
          "name": "stdout",
          "output_type": "stream",
          "text": [
            "INFO:tensorflow:Assets written to: C:\\Users\\KONDOM~1\\AppData\\Local\\Temp\\tmphgo4fw9t\\assets\n"
          ]
        },
        {
          "name": "stderr",
          "output_type": "stream",
          "text": [
            "INFO:tensorflow:Assets written to: C:\\Users\\KONDOM~1\\AppData\\Local\\Temp\\tmphgo4fw9t\\assets\n"
          ]
        },
        {
          "data": {
            "text/plain": [
              "6640"
            ]
          },
          "execution_count": 74,
          "metadata": {},
          "output_type": "execute_result"
        }
      ],
      "source": [
        "# Transform model (quantization)\n",
        "\n",
        "converter = tf.lite.TFLiteConverter.from_keras_model(model)\n",
        "converter.optimizations = [tf.lite.Optimize.DEFAULT]\n",
        "tflite_quantized_model = converter.convert()\n",
        "\n",
        "open(tflite_save_path, 'wb').write(tflite_quantized_model)"
      ]
    },
    {
      "cell_type": "markdown",
      "metadata": {
        "id": "CHBPBXdx9hE6"
      },
      "source": [
        "# Inference test"
      ]
    },
    {
      "cell_type": "code",
      "execution_count": 75,
      "metadata": {
        "id": "mGAzLocO9hE7"
      },
      "outputs": [],
      "source": [
        "interpreter = tf.lite.Interpreter(model_path=tflite_save_path)\n",
        "interpreter.allocate_tensors()"
      ]
    },
    {
      "cell_type": "code",
      "execution_count": 76,
      "metadata": {
        "id": "oQuDK8YS9hE7"
      },
      "outputs": [],
      "source": [
        "# Get I / O tensor\n",
        "input_details = interpreter.get_input_details()\n",
        "output_details = interpreter.get_output_details()"
      ]
    },
    {
      "cell_type": "code",
      "execution_count": 77,
      "metadata": {
        "id": "2_ixAf_l9hE7"
      },
      "outputs": [],
      "source": [
        "interpreter.set_tensor(input_details[0]['index'], np.array([X_test[0]]))"
      ]
    },
    {
      "cell_type": "code",
      "execution_count": 78,
      "metadata": {
        "colab": {
          "base_uri": "https://localhost:8080/"
        },
        "id": "s4FoAnuc9hE7",
        "outputId": "91f18257-8d8b-4ef3-c558-e9b5f94fabbf",
        "scrolled": true
      },
      "outputs": [
        {
          "name": "stdout",
          "output_type": "stream",
          "text": [
            "CPU times: total: 0 ns\n",
            "Wall time: 0 ns\n"
          ]
        }
      ],
      "source": [
        "%%time\n",
        "# Inference implementation\n",
        "interpreter.invoke()\n",
        "tflite_results = interpreter.get_tensor(output_details[0]['index'])"
      ]
    },
    {
      "cell_type": "code",
      "execution_count": 79,
      "metadata": {
        "colab": {
          "base_uri": "https://localhost:8080/"
        },
        "id": "vONjp19J9hE8",
        "outputId": "77205e24-fd00-42c4-f7b6-e06e527c2cba"
      },
      "outputs": [
        {
          "name": "stdout",
          "output_type": "stream",
          "text": [
            "[2.5321856e-01 1.8164616e-02 7.5844086e-06 7.2860932e-01 1.2994448e-14]\n",
            "3\n"
          ]
        }
      ],
      "source": [
        "print(np.squeeze(tflite_results))\n",
        "print(np.argmax(np.squeeze(tflite_results)))"
      ]
    }
  ],
  "metadata": {
    "accelerator": "GPU",
    "colab": {
      "collapsed_sections": [],
      "name": "keypoint_classification_EN.ipynb",
      "provenance": [],
      "toc_visible": true
    },
    "kernelspec": {
      "display_name": "Python 3.10.4 ('motion-project')",
      "language": "python",
      "name": "python3"
    },
    "language_info": {
      "codemirror_mode": {
        "name": "ipython",
        "version": 3
      },
      "file_extension": ".py",
      "mimetype": "text/x-python",
      "name": "python",
      "nbconvert_exporter": "python",
      "pygments_lexer": "ipython3",
      "version": "3.10.4"
    },
    "vscode": {
      "interpreter": {
        "hash": "c0eb5b968819a12444ab44b87c874b634f939342cd7ff646fdc68a14d1a58bdd"
      }
    }
  },
  "nbformat": 4,
  "nbformat_minor": 0
}
