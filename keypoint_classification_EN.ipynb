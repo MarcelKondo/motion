{
  "cells": [
    {
      "cell_type": "code",
      "execution_count": 67,
      "metadata": {
        "id": "igMyGnjE9hEp"
      },
      "outputs": [],
      "source": [
        "import csv\n",
        "\n",
        "import numpy as np\n",
        "import tensorflow as tf\n",
        "from sklearn.model_selection import train_test_split\n",
        "\n",
        "RANDOM_SEED = 42"
      ]
    },
    {
      "cell_type": "markdown",
      "metadata": {
        "id": "t2HDvhIu9hEr"
      },
      "source": [
        "# Specify each path"
      ]
    },
    {
      "cell_type": "code",
      "execution_count": 68,
      "metadata": {
        "id": "9NvZP2Zn9hEy"
      },
      "outputs": [],
      "source": [
        "dataset = 'model/keypoint_classifier/keypoint.csv'\n",
        "model_save_path = 'model/keypoint_classifier/keypoint_classifier.hdf5'\n",
        "tflite_save_path = 'model/keypoint_classifier/keypoint_classifier.tflite'"
      ]
    },
    {
      "cell_type": "markdown",
      "metadata": {
        "id": "s5oMH7x19hEz"
      },
      "source": [
        "# Set number of classes"
      ]
    },
    {
      "cell_type": "code",
      "execution_count": 69,
      "metadata": {
        "id": "du4kodXL9hEz"
      },
      "outputs": [],
      "source": [
        "NUM_CLASSES = 6"
      ]
    },
    {
      "cell_type": "markdown",
      "metadata": {
        "id": "XjnL0uso9hEz"
      },
      "source": [
        "# Dataset reading"
      ]
    },
    {
      "cell_type": "code",
      "execution_count": 70,
      "metadata": {
        "id": "QT5ZqtEz9hE0"
      },
      "outputs": [],
      "source": [
        "X_dataset = np.loadtxt(dataset, delimiter=',', dtype='float32', usecols=list(range(1, (21 * 2) + 1)))"
      ]
    },
    {
      "cell_type": "code",
      "execution_count": 71,
      "metadata": {
        "id": "QmoKFsp49hE0"
      },
      "outputs": [],
      "source": [
        "y_dataset = np.loadtxt(dataset, delimiter=',', dtype='int32', usecols=(0))"
      ]
    },
    {
      "cell_type": "code",
      "execution_count": 72,
      "metadata": {
        "id": "xQU7JTZ_9hE0"
      },
      "outputs": [],
      "source": [
        "X_train, X_test, y_train, y_test = train_test_split(X_dataset, y_dataset, train_size=0.75, random_state=RANDOM_SEED)"
      ]
    },
    {
      "cell_type": "markdown",
      "metadata": {
        "id": "mxK_lETT9hE0"
      },
      "source": [
        "# Model building"
      ]
    },
    {
      "cell_type": "code",
      "execution_count": 73,
      "metadata": {
        "id": "vHBmUf1t9hE1"
      },
      "outputs": [],
      "source": [
        "model = tf.keras.models.Sequential([\n",
        "    tf.keras.layers.Input((21 * 2, )),\n",
        "    tf.keras.layers.Dropout(0.2),\n",
        "    tf.keras.layers.Dense(20, activation='relu'),\n",
        "    tf.keras.layers.Dropout(0.4),\n",
        "    tf.keras.layers.Dense(10, activation='relu'),\n",
        "    tf.keras.layers.Dense(NUM_CLASSES, activation='softmax')\n",
        "])"
      ]
    },
    {
      "cell_type": "code",
      "execution_count": 74,
      "metadata": {
        "colab": {
          "base_uri": "https://localhost:8080/"
        },
        "id": "ypqky9tc9hE1",
        "outputId": "5db082bb-30e3-4110-bf63-a1ee777ecd46"
      },
      "outputs": [
        {
          "name": "stdout",
          "output_type": "stream",
          "text": [
            "Model: \"sequential_4\"\n",
            "_________________________________________________________________\n",
            " Layer (type)                Output Shape              Param #   \n",
            "=================================================================\n",
            " dropout_8 (Dropout)         (None, 42)                0         \n",
            "                                                                 \n",
            " dense_12 (Dense)            (None, 20)                860       \n",
            "                                                                 \n",
            " dropout_9 (Dropout)         (None, 20)                0         \n",
            "                                                                 \n",
            " dense_13 (Dense)            (None, 10)                210       \n",
            "                                                                 \n",
            " dense_14 (Dense)            (None, 6)                 66        \n",
            "                                                                 \n",
            "=================================================================\n",
            "Total params: 1,136\n",
            "Trainable params: 1,136\n",
            "Non-trainable params: 0\n",
            "_________________________________________________________________\n"
          ]
        }
      ],
      "source": [
        "model.summary()  # tf.keras.utils.plot_model(model, show_shapes=True)"
      ]
    },
    {
      "cell_type": "code",
      "execution_count": 75,
      "metadata": {
        "id": "MbMjOflQ9hE1"
      },
      "outputs": [],
      "source": [
        "# Model checkpoint callback\n",
        "cp_callback = tf.keras.callbacks.ModelCheckpoint(\n",
        "    model_save_path, verbose=1, save_weights_only=False)\n",
        "# Callback for early stopping\n",
        "es_callback = tf.keras.callbacks.EarlyStopping(patience=20, verbose=1)"
      ]
    },
    {
      "cell_type": "code",
      "execution_count": 76,
      "metadata": {
        "id": "c3Dac0M_9hE2"
      },
      "outputs": [],
      "source": [
        "# Model compilation\n",
        "model.compile(\n",
        "    optimizer='adam',\n",
        "    loss='sparse_categorical_crossentropy',\n",
        "    metrics=['accuracy']\n",
        ")"
      ]
    },
    {
      "cell_type": "markdown",
      "metadata": {
        "id": "7XI0j1Iu9hE2"
      },
      "source": [
        "# Model training"
      ]
    },
    {
      "cell_type": "code",
      "execution_count": 77,
      "metadata": {
        "colab": {
          "base_uri": "https://localhost:8080/"
        },
        "id": "WirBl-JE9hE3",
        "outputId": "71b30ca2-8294-4d9d-8aa2-800d90d399de",
        "scrolled": true
      },
      "outputs": [
        {
          "name": "stdout",
          "output_type": "stream",
          "text": [
            "Epoch 1/1000\n",
            " 1/32 [..............................] - ETA: 11s - loss: 1.8954 - accuracy: 0.1406\n",
            "Epoch 1: saving model to model/keypoint_classifier\\keypoint_classifier.hdf5\n",
            "32/32 [==============================] - 1s 7ms/step - loss: 1.7881 - accuracy: 0.2008 - val_loss: 1.6200 - val_accuracy: 0.3650\n",
            "Epoch 2/1000\n",
            " 1/32 [..............................] - ETA: 0s - loss: 1.6647 - accuracy: 0.2734\n",
            "Epoch 2: saving model to model/keypoint_classifier\\keypoint_classifier.hdf5\n",
            "32/32 [==============================] - 0s 3ms/step - loss: 1.6146 - accuracy: 0.3039 - val_loss: 1.4673 - val_accuracy: 0.4087\n",
            "Epoch 3/1000\n",
            " 1/32 [..............................] - ETA: 0s - loss: 1.5543 - accuracy: 0.3359\n",
            "Epoch 3: saving model to model/keypoint_classifier\\keypoint_classifier.hdf5\n",
            "32/32 [==============================] - 0s 3ms/step - loss: 1.5065 - accuracy: 0.3426 - val_loss: 1.3647 - val_accuracy: 0.4133\n",
            "Epoch 4/1000\n",
            " 1/32 [..............................] - ETA: 0s - loss: 1.4320 - accuracy: 0.3281\n",
            "Epoch 4: saving model to model/keypoint_classifier\\keypoint_classifier.hdf5\n",
            "32/32 [==============================] - 0s 3ms/step - loss: 1.4263 - accuracy: 0.3751 - val_loss: 1.2853 - val_accuracy: 0.4917\n",
            "Epoch 5/1000\n",
            " 1/32 [..............................] - ETA: 0s - loss: 1.3612 - accuracy: 0.4609\n",
            "Epoch 5: saving model to model/keypoint_classifier\\keypoint_classifier.hdf5\n",
            "32/32 [==============================] - 0s 3ms/step - loss: 1.3603 - accuracy: 0.4035 - val_loss: 1.2093 - val_accuracy: 0.5136\n",
            "Epoch 6/1000\n",
            " 1/32 [..............................] - ETA: 0s - loss: 1.4555 - accuracy: 0.3594\n",
            "Epoch 6: saving model to model/keypoint_classifier\\keypoint_classifier.hdf5\n",
            "32/32 [==============================] - 0s 3ms/step - loss: 1.3054 - accuracy: 0.4362 - val_loss: 1.1499 - val_accuracy: 0.5332\n",
            "Epoch 7/1000\n",
            " 1/32 [..............................] - ETA: 0s - loss: 1.2593 - accuracy: 0.3828\n",
            "Epoch 7: saving model to model/keypoint_classifier\\keypoint_classifier.hdf5\n",
            "32/32 [==============================] - 0s 3ms/step - loss: 1.2756 - accuracy: 0.4385 - val_loss: 1.0956 - val_accuracy: 0.5732\n",
            "Epoch 8/1000\n",
            " 1/32 [..............................] - ETA: 0s - loss: 1.2433 - accuracy: 0.5312\n",
            "Epoch 8: saving model to model/keypoint_classifier\\keypoint_classifier.hdf5\n",
            "32/32 [==============================] - 0s 3ms/step - loss: 1.2129 - accuracy: 0.4913 - val_loss: 1.0383 - val_accuracy: 0.6033\n",
            "Epoch 9/1000\n",
            " 1/32 [..............................] - ETA: 0s - loss: 1.0892 - accuracy: 0.5391\n",
            "Epoch 9: saving model to model/keypoint_classifier\\keypoint_classifier.hdf5\n",
            "32/32 [==============================] - 0s 3ms/step - loss: 1.1815 - accuracy: 0.4974 - val_loss: 0.9905 - val_accuracy: 0.6765\n",
            "Epoch 10/1000\n",
            " 1/32 [..............................] - ETA: 0s - loss: 1.1683 - accuracy: 0.4766\n",
            "Epoch 10: saving model to model/keypoint_classifier\\keypoint_classifier.hdf5\n",
            "32/32 [==============================] - 0s 3ms/step - loss: 1.1519 - accuracy: 0.5107 - val_loss: 0.9551 - val_accuracy: 0.7089\n",
            "Epoch 11/1000\n",
            " 1/32 [..............................] - ETA: 0s - loss: 1.0743 - accuracy: 0.5547\n",
            "Epoch 11: saving model to model/keypoint_classifier\\keypoint_classifier.hdf5\n",
            "32/32 [==============================] - 0s 3ms/step - loss: 1.1216 - accuracy: 0.5225 - val_loss: 0.9202 - val_accuracy: 0.7247\n",
            "Epoch 12/1000\n",
            " 1/32 [..............................] - ETA: 0s - loss: 1.1223 - accuracy: 0.5391\n",
            "Epoch 12: saving model to model/keypoint_classifier\\keypoint_classifier.hdf5\n",
            "32/32 [==============================] - 0s 3ms/step - loss: 1.0868 - accuracy: 0.5482 - val_loss: 0.8874 - val_accuracy: 0.7459\n",
            "Epoch 13/1000\n",
            " 1/32 [..............................] - ETA: 0s - loss: 1.0246 - accuracy: 0.5391\n",
            "Epoch 13: saving model to model/keypoint_classifier\\keypoint_classifier.hdf5\n",
            "32/32 [==============================] - 0s 3ms/step - loss: 1.0683 - accuracy: 0.5492 - val_loss: 0.8564 - val_accuracy: 0.7647\n",
            "Epoch 14/1000\n",
            " 1/32 [..............................] - ETA: 0s - loss: 0.9701 - accuracy: 0.6250\n",
            "Epoch 14: saving model to model/keypoint_classifier\\keypoint_classifier.hdf5\n",
            "32/32 [==============================] - 0s 3ms/step - loss: 1.0529 - accuracy: 0.5482 - val_loss: 0.8300 - val_accuracy: 0.7670\n",
            "Epoch 15/1000\n",
            " 1/32 [..............................] - ETA: 0s - loss: 1.1434 - accuracy: 0.5469\n",
            "Epoch 15: saving model to model/keypoint_classifier\\keypoint_classifier.hdf5\n",
            "32/32 [==============================] - 0s 3ms/step - loss: 1.0378 - accuracy: 0.5605 - val_loss: 0.8099 - val_accuracy: 0.7851\n",
            "Epoch 16/1000\n",
            " 1/32 [..............................] - ETA: 0s - loss: 1.0590 - accuracy: 0.5703\n",
            "Epoch 16: saving model to model/keypoint_classifier\\keypoint_classifier.hdf5\n",
            "32/32 [==============================] - 0s 3ms/step - loss: 1.0160 - accuracy: 0.5829 - val_loss: 0.7868 - val_accuracy: 0.7888\n",
            "Epoch 17/1000\n",
            " 1/32 [..............................] - ETA: 0s - loss: 0.9593 - accuracy: 0.5938\n",
            "Epoch 17: saving model to model/keypoint_classifier\\keypoint_classifier.hdf5\n",
            "32/32 [==============================] - 0s 3ms/step - loss: 0.9985 - accuracy: 0.5821 - val_loss: 0.7627 - val_accuracy: 0.8054\n",
            "Epoch 18/1000\n",
            " 1/32 [..............................] - ETA: 0s - loss: 0.8742 - accuracy: 0.6719\n",
            "Epoch 18: saving model to model/keypoint_classifier\\keypoint_classifier.hdf5\n",
            "32/32 [==============================] - 0s 3ms/step - loss: 0.9697 - accuracy: 0.5862 - val_loss: 0.7421 - val_accuracy: 0.8077\n",
            "Epoch 19/1000\n",
            " 1/32 [..............................] - ETA: 0s - loss: 1.0543 - accuracy: 0.5391\n",
            "Epoch 19: saving model to model/keypoint_classifier\\keypoint_classifier.hdf5\n",
            "32/32 [==============================] - 0s 3ms/step - loss: 0.9587 - accuracy: 0.6015 - val_loss: 0.7205 - val_accuracy: 0.8198\n",
            "Epoch 20/1000\n",
            " 1/32 [..............................] - ETA: 0s - loss: 0.8867 - accuracy: 0.6172\n",
            "Epoch 20: saving model to model/keypoint_classifier\\keypoint_classifier.hdf5\n",
            "32/32 [==============================] - 0s 3ms/step - loss: 0.9533 - accuracy: 0.6073 - val_loss: 0.7049 - val_accuracy: 0.8348\n",
            "Epoch 21/1000\n",
            " 1/32 [..............................] - ETA: 0s - loss: 0.7639 - accuracy: 0.6953\n",
            "Epoch 21: saving model to model/keypoint_classifier\\keypoint_classifier.hdf5\n",
            "32/32 [==============================] - 0s 3ms/step - loss: 0.9245 - accuracy: 0.6292 - val_loss: 0.6898 - val_accuracy: 0.8363\n",
            "Epoch 22/1000\n",
            " 1/32 [..............................] - ETA: 0s - loss: 0.9603 - accuracy: 0.5859\n",
            "Epoch 22: saving model to model/keypoint_classifier\\keypoint_classifier.hdf5\n",
            "32/32 [==============================] - 0s 3ms/step - loss: 0.9255 - accuracy: 0.6194 - val_loss: 0.6774 - val_accuracy: 0.8356\n",
            "Epoch 23/1000\n",
            " 1/32 [..............................] - ETA: 0s - loss: 0.8694 - accuracy: 0.6484\n",
            "Epoch 23: saving model to model/keypoint_classifier\\keypoint_classifier.hdf5\n",
            "32/32 [==============================] - 0s 3ms/step - loss: 0.9175 - accuracy: 0.6131 - val_loss: 0.6628 - val_accuracy: 0.8416\n",
            "Epoch 24/1000\n",
            " 1/32 [..............................] - ETA: 0s - loss: 0.8864 - accuracy: 0.6250\n",
            "Epoch 24: saving model to model/keypoint_classifier\\keypoint_classifier.hdf5\n",
            "32/32 [==============================] - 0s 3ms/step - loss: 0.9088 - accuracy: 0.6262 - val_loss: 0.6459 - val_accuracy: 0.8552\n",
            "Epoch 25/1000\n",
            " 1/32 [..............................] - ETA: 0s - loss: 0.9001 - accuracy: 0.5312\n",
            "Epoch 25: saving model to model/keypoint_classifier\\keypoint_classifier.hdf5\n",
            "32/32 [==============================] - 0s 3ms/step - loss: 0.8785 - accuracy: 0.6302 - val_loss: 0.6334 - val_accuracy: 0.8522\n",
            "Epoch 26/1000\n",
            " 1/32 [..............................] - ETA: 0s - loss: 0.8476 - accuracy: 0.6797\n",
            "Epoch 26: saving model to model/keypoint_classifier\\keypoint_classifier.hdf5\n",
            "32/32 [==============================] - 0s 3ms/step - loss: 0.8942 - accuracy: 0.6317 - val_loss: 0.6242 - val_accuracy: 0.8695\n",
            "Epoch 27/1000\n",
            " 1/32 [..............................] - ETA: 0s - loss: 0.7943 - accuracy: 0.7031\n",
            "Epoch 27: saving model to model/keypoint_classifier\\keypoint_classifier.hdf5\n",
            "32/32 [==============================] - 0s 3ms/step - loss: 0.8799 - accuracy: 0.6365 - val_loss: 0.6123 - val_accuracy: 0.8710\n",
            "Epoch 28/1000\n",
            " 1/32 [..............................] - ETA: 0s - loss: 0.8246 - accuracy: 0.7031\n",
            "Epoch 28: saving model to model/keypoint_classifier\\keypoint_classifier.hdf5\n",
            "32/32 [==============================] - 0s 3ms/step - loss: 0.8663 - accuracy: 0.6528 - val_loss: 0.6018 - val_accuracy: 0.8771\n",
            "Epoch 29/1000\n",
            " 1/32 [..............................] - ETA: 0s - loss: 0.8700 - accuracy: 0.6562\n",
            "Epoch 29: saving model to model/keypoint_classifier\\keypoint_classifier.hdf5\n",
            "32/32 [==============================] - 0s 3ms/step - loss: 0.8626 - accuracy: 0.6516 - val_loss: 0.5934 - val_accuracy: 0.8763\n",
            "Epoch 30/1000\n",
            " 1/32 [..............................] - ETA: 0s - loss: 0.8482 - accuracy: 0.6719\n",
            "Epoch 30: saving model to model/keypoint_classifier\\keypoint_classifier.hdf5\n",
            "32/32 [==============================] - 0s 3ms/step - loss: 0.8487 - accuracy: 0.6611 - val_loss: 0.5836 - val_accuracy: 0.8808\n",
            "Epoch 31/1000\n",
            " 1/32 [..............................] - ETA: 0s - loss: 0.8300 - accuracy: 0.6328\n",
            "Epoch 31: saving model to model/keypoint_classifier\\keypoint_classifier.hdf5\n",
            "32/32 [==============================] - 0s 3ms/step - loss: 0.8535 - accuracy: 0.6589 - val_loss: 0.5704 - val_accuracy: 0.8854\n",
            "Epoch 32/1000\n",
            " 1/32 [..............................] - ETA: 0s - loss: 0.7680 - accuracy: 0.6875\n",
            "Epoch 32: saving model to model/keypoint_classifier\\keypoint_classifier.hdf5\n",
            "32/32 [==============================] - 0s 3ms/step - loss: 0.8295 - accuracy: 0.6717 - val_loss: 0.5638 - val_accuracy: 0.8899\n",
            "Epoch 33/1000\n",
            " 1/32 [..............................] - ETA: 0s - loss: 0.8492 - accuracy: 0.6250\n",
            "Epoch 33: saving model to model/keypoint_classifier\\keypoint_classifier.hdf5\n",
            "32/32 [==============================] - 0s 3ms/step - loss: 0.8291 - accuracy: 0.6647 - val_loss: 0.5531 - val_accuracy: 0.8929\n",
            "Epoch 34/1000\n",
            "29/32 [==========================>...] - ETA: 0s - loss: 0.8236 - accuracy: 0.6659\n",
            "Epoch 34: saving model to model/keypoint_classifier\\keypoint_classifier.hdf5\n",
            "32/32 [==============================] - 0s 4ms/step - loss: 0.8177 - accuracy: 0.6687 - val_loss: 0.5414 - val_accuracy: 0.8974\n",
            "Epoch 35/1000\n",
            " 1/32 [..............................] - ETA: 0s - loss: 0.7477 - accuracy: 0.7344\n",
            "Epoch 35: saving model to model/keypoint_classifier\\keypoint_classifier.hdf5\n",
            "32/32 [==============================] - 0s 3ms/step - loss: 0.8250 - accuracy: 0.6579 - val_loss: 0.5342 - val_accuracy: 0.8989\n",
            "Epoch 36/1000\n",
            " 1/32 [..............................] - ETA: 0s - loss: 0.8249 - accuracy: 0.6641\n",
            "Epoch 36: saving model to model/keypoint_classifier\\keypoint_classifier.hdf5\n",
            "32/32 [==============================] - 0s 3ms/step - loss: 0.8172 - accuracy: 0.6719 - val_loss: 0.5247 - val_accuracy: 0.8982\n",
            "Epoch 37/1000\n",
            " 1/32 [..............................] - ETA: 0s - loss: 0.8742 - accuracy: 0.6719\n",
            "Epoch 37: saving model to model/keypoint_classifier\\keypoint_classifier.hdf5\n",
            "32/32 [==============================] - 0s 3ms/step - loss: 0.8073 - accuracy: 0.6770 - val_loss: 0.5173 - val_accuracy: 0.8959\n",
            "Epoch 38/1000\n",
            " 1/32 [..............................] - ETA: 0s - loss: 0.7521 - accuracy: 0.7109\n",
            "Epoch 38: saving model to model/keypoint_classifier\\keypoint_classifier.hdf5\n",
            "32/32 [==============================] - 0s 3ms/step - loss: 0.7782 - accuracy: 0.6878 - val_loss: 0.5140 - val_accuracy: 0.8959\n",
            "Epoch 39/1000\n",
            " 1/32 [..............................] - ETA: 0s - loss: 0.8031 - accuracy: 0.6953\n",
            "Epoch 39: saving model to model/keypoint_classifier\\keypoint_classifier.hdf5\n",
            "32/32 [==============================] - 0s 3ms/step - loss: 0.7990 - accuracy: 0.6823 - val_loss: 0.5086 - val_accuracy: 0.9020\n",
            "Epoch 40/1000\n",
            " 1/32 [..............................] - ETA: 0s - loss: 0.7989 - accuracy: 0.6875\n",
            "Epoch 40: saving model to model/keypoint_classifier\\keypoint_classifier.hdf5\n",
            "32/32 [==============================] - 0s 3ms/step - loss: 0.7842 - accuracy: 0.6757 - val_loss: 0.5058 - val_accuracy: 0.9012\n",
            "Epoch 41/1000\n",
            " 1/32 [..............................] - ETA: 0s - loss: 0.8290 - accuracy: 0.6484\n",
            "Epoch 41: saving model to model/keypoint_classifier\\keypoint_classifier.hdf5\n",
            "32/32 [==============================] - 0s 3ms/step - loss: 0.7585 - accuracy: 0.6943 - val_loss: 0.4893 - val_accuracy: 0.9080\n",
            "Epoch 42/1000\n",
            " 1/32 [..............................] - ETA: 0s - loss: 0.7021 - accuracy: 0.7188\n",
            "Epoch 42: saving model to model/keypoint_classifier\\keypoint_classifier.hdf5\n",
            "32/32 [==============================] - 0s 3ms/step - loss: 0.7765 - accuracy: 0.6896 - val_loss: 0.4849 - val_accuracy: 0.9050\n",
            "Epoch 43/1000\n",
            " 1/32 [..............................] - ETA: 0s - loss: 0.6952 - accuracy: 0.7266\n",
            "Epoch 43: saving model to model/keypoint_classifier\\keypoint_classifier.hdf5\n",
            "32/32 [==============================] - 0s 3ms/step - loss: 0.7787 - accuracy: 0.6833 - val_loss: 0.4814 - val_accuracy: 0.9080\n",
            "Epoch 44/1000\n",
            " 1/32 [..............................] - ETA: 0s - loss: 0.7433 - accuracy: 0.7266\n",
            "Epoch 44: saving model to model/keypoint_classifier\\keypoint_classifier.hdf5\n",
            "32/32 [==============================] - 0s 3ms/step - loss: 0.7622 - accuracy: 0.6996 - val_loss: 0.4790 - val_accuracy: 0.9103\n",
            "Epoch 45/1000\n",
            " 1/32 [..............................] - ETA: 0s - loss: 0.6927 - accuracy: 0.7109\n",
            "Epoch 45: saving model to model/keypoint_classifier\\keypoint_classifier.hdf5\n",
            "32/32 [==============================] - 0s 3ms/step - loss: 0.7668 - accuracy: 0.6971 - val_loss: 0.4693 - val_accuracy: 0.9140\n",
            "Epoch 46/1000\n",
            " 1/32 [..............................] - ETA: 0s - loss: 0.6904 - accuracy: 0.7422\n",
            "Epoch 46: saving model to model/keypoint_classifier\\keypoint_classifier.hdf5\n",
            "32/32 [==============================] - 0s 3ms/step - loss: 0.7587 - accuracy: 0.6958 - val_loss: 0.4652 - val_accuracy: 0.9133\n",
            "Epoch 47/1000\n",
            " 1/32 [..............................] - ETA: 0s - loss: 0.8332 - accuracy: 0.6484\n",
            "Epoch 47: saving model to model/keypoint_classifier\\keypoint_classifier.hdf5\n",
            "32/32 [==============================] - 0s 3ms/step - loss: 0.7670 - accuracy: 0.6878 - val_loss: 0.4615 - val_accuracy: 0.9178\n",
            "Epoch 48/1000\n",
            " 1/32 [..............................] - ETA: 0s - loss: 0.7836 - accuracy: 0.7109\n",
            "Epoch 48: saving model to model/keypoint_classifier\\keypoint_classifier.hdf5\n",
            "32/32 [==============================] - 0s 3ms/step - loss: 0.7494 - accuracy: 0.7006 - val_loss: 0.4550 - val_accuracy: 0.9231\n",
            "Epoch 49/1000\n",
            " 1/32 [..............................] - ETA: 0s - loss: 0.8426 - accuracy: 0.6484\n",
            "Epoch 49: saving model to model/keypoint_classifier\\keypoint_classifier.hdf5\n",
            "32/32 [==============================] - 0s 3ms/step - loss: 0.7462 - accuracy: 0.7011 - val_loss: 0.4565 - val_accuracy: 0.9208\n",
            "Epoch 50/1000\n",
            " 1/32 [..............................] - ETA: 0s - loss: 0.6955 - accuracy: 0.6875\n",
            "Epoch 50: saving model to model/keypoint_classifier\\keypoint_classifier.hdf5\n",
            "32/32 [==============================] - 0s 3ms/step - loss: 0.7285 - accuracy: 0.7162 - val_loss: 0.4421 - val_accuracy: 0.9223\n",
            "Epoch 51/1000\n",
            " 1/32 [..............................] - ETA: 0s - loss: 0.7932 - accuracy: 0.7344\n",
            "Epoch 51: saving model to model/keypoint_classifier\\keypoint_classifier.hdf5\n",
            "32/32 [==============================] - 0s 3ms/step - loss: 0.7404 - accuracy: 0.7109 - val_loss: 0.4438 - val_accuracy: 0.9193\n",
            "Epoch 52/1000\n",
            " 1/32 [..............................] - ETA: 0s - loss: 0.7936 - accuracy: 0.6719\n",
            "Epoch 52: saving model to model/keypoint_classifier\\keypoint_classifier.hdf5\n",
            "32/32 [==============================] - 0s 3ms/step - loss: 0.7472 - accuracy: 0.7052 - val_loss: 0.4404 - val_accuracy: 0.9238\n",
            "Epoch 53/1000\n",
            " 1/32 [..............................] - ETA: 0s - loss: 0.8410 - accuracy: 0.6875\n",
            "Epoch 53: saving model to model/keypoint_classifier\\keypoint_classifier.hdf5\n",
            "32/32 [==============================] - 0s 3ms/step - loss: 0.7245 - accuracy: 0.7203 - val_loss: 0.4348 - val_accuracy: 0.9306\n",
            "Epoch 54/1000\n",
            " 1/32 [..............................] - ETA: 0s - loss: 0.7825 - accuracy: 0.7266\n",
            "Epoch 54: saving model to model/keypoint_classifier\\keypoint_classifier.hdf5\n",
            "32/32 [==============================] - 0s 3ms/step - loss: 0.7247 - accuracy: 0.7092 - val_loss: 0.4270 - val_accuracy: 0.9216\n",
            "Epoch 55/1000\n",
            " 1/32 [..............................] - ETA: 0s - loss: 0.8676 - accuracy: 0.6094\n",
            "Epoch 55: saving model to model/keypoint_classifier\\keypoint_classifier.hdf5\n",
            "32/32 [==============================] - 0s 3ms/step - loss: 0.7396 - accuracy: 0.7092 - val_loss: 0.4242 - val_accuracy: 0.9276\n",
            "Epoch 56/1000\n",
            " 1/32 [..............................] - ETA: 0s - loss: 0.6786 - accuracy: 0.7031\n",
            "Epoch 56: saving model to model/keypoint_classifier\\keypoint_classifier.hdf5\n",
            "32/32 [==============================] - 0s 3ms/step - loss: 0.7304 - accuracy: 0.7092 - val_loss: 0.4238 - val_accuracy: 0.9291\n",
            "Epoch 57/1000\n",
            " 1/32 [..............................] - ETA: 0s - loss: 0.6635 - accuracy: 0.7031\n",
            "Epoch 57: saving model to model/keypoint_classifier\\keypoint_classifier.hdf5\n",
            "32/32 [==============================] - 0s 3ms/step - loss: 0.7228 - accuracy: 0.7112 - val_loss: 0.4232 - val_accuracy: 0.9336\n",
            "Epoch 58/1000\n",
            " 1/32 [..............................] - ETA: 0s - loss: 0.6990 - accuracy: 0.7422\n",
            "Epoch 58: saving model to model/keypoint_classifier\\keypoint_classifier.hdf5\n",
            "32/32 [==============================] - 0s 3ms/step - loss: 0.7093 - accuracy: 0.7190 - val_loss: 0.4164 - val_accuracy: 0.9329\n",
            "Epoch 59/1000\n",
            " 1/32 [..............................] - ETA: 0s - loss: 0.7204 - accuracy: 0.7188\n",
            "Epoch 59: saving model to model/keypoint_classifier\\keypoint_classifier.hdf5\n",
            "32/32 [==============================] - 0s 3ms/step - loss: 0.7203 - accuracy: 0.7132 - val_loss: 0.4157 - val_accuracy: 0.9284\n",
            "Epoch 60/1000\n",
            " 1/32 [..............................] - ETA: 0s - loss: 0.8312 - accuracy: 0.6953\n",
            "Epoch 60: saving model to model/keypoint_classifier\\keypoint_classifier.hdf5\n",
            "32/32 [==============================] - 0s 3ms/step - loss: 0.7432 - accuracy: 0.7112 - val_loss: 0.4148 - val_accuracy: 0.9359\n",
            "Epoch 61/1000\n",
            " 1/32 [..............................] - ETA: 0s - loss: 0.6562 - accuracy: 0.7422\n",
            "Epoch 61: saving model to model/keypoint_classifier\\keypoint_classifier.hdf5\n",
            "32/32 [==============================] - 0s 3ms/step - loss: 0.6823 - accuracy: 0.7348 - val_loss: 0.4023 - val_accuracy: 0.9329\n",
            "Epoch 62/1000\n",
            " 1/32 [..............................] - ETA: 0s - loss: 0.7001 - accuracy: 0.7344\n",
            "Epoch 62: saving model to model/keypoint_classifier\\keypoint_classifier.hdf5\n",
            "32/32 [==============================] - 0s 3ms/step - loss: 0.7253 - accuracy: 0.7165 - val_loss: 0.4061 - val_accuracy: 0.9344\n",
            "Epoch 63/1000\n",
            " 1/32 [..............................] - ETA: 0s - loss: 0.8913 - accuracy: 0.6328\n",
            "Epoch 63: saving model to model/keypoint_classifier\\keypoint_classifier.hdf5\n",
            "32/32 [==============================] - 0s 3ms/step - loss: 0.7170 - accuracy: 0.7245 - val_loss: 0.4090 - val_accuracy: 0.9314\n",
            "Epoch 64/1000\n",
            " 1/32 [..............................] - ETA: 0s - loss: 0.7724 - accuracy: 0.6953\n",
            "Epoch 64: saving model to model/keypoint_classifier\\keypoint_classifier.hdf5\n",
            "32/32 [==============================] - 0s 3ms/step - loss: 0.7033 - accuracy: 0.7281 - val_loss: 0.4025 - val_accuracy: 0.9314\n",
            "Epoch 65/1000\n",
            " 1/32 [..............................] - ETA: 0s - loss: 0.7992 - accuracy: 0.6562\n",
            "Epoch 65: saving model to model/keypoint_classifier\\keypoint_classifier.hdf5\n",
            "32/32 [==============================] - 0s 3ms/step - loss: 0.7152 - accuracy: 0.7187 - val_loss: 0.3948 - val_accuracy: 0.9336\n",
            "Epoch 66/1000\n",
            " 1/32 [..............................] - ETA: 0s - loss: 0.7612 - accuracy: 0.6875\n",
            "Epoch 66: saving model to model/keypoint_classifier\\keypoint_classifier.hdf5\n",
            "32/32 [==============================] - 0s 3ms/step - loss: 0.7065 - accuracy: 0.7281 - val_loss: 0.3966 - val_accuracy: 0.9351\n",
            "Epoch 67/1000\n",
            " 1/32 [..............................] - ETA: 0s - loss: 0.6652 - accuracy: 0.7500\n",
            "Epoch 67: saving model to model/keypoint_classifier\\keypoint_classifier.hdf5\n",
            "32/32 [==============================] - 0s 3ms/step - loss: 0.7097 - accuracy: 0.7182 - val_loss: 0.3987 - val_accuracy: 0.9306\n",
            "Epoch 68/1000\n",
            " 1/32 [..............................] - ETA: 0s - loss: 0.6198 - accuracy: 0.7500\n",
            "Epoch 68: saving model to model/keypoint_classifier\\keypoint_classifier.hdf5\n",
            "32/32 [==============================] - 0s 3ms/step - loss: 0.6743 - accuracy: 0.7401 - val_loss: 0.3896 - val_accuracy: 0.9299\n",
            "Epoch 69/1000\n",
            " 1/32 [..............................] - ETA: 0s - loss: 0.7201 - accuracy: 0.6719\n",
            "Epoch 69: saving model to model/keypoint_classifier\\keypoint_classifier.hdf5\n",
            "32/32 [==============================] - 0s 3ms/step - loss: 0.6819 - accuracy: 0.7286 - val_loss: 0.3879 - val_accuracy: 0.9329\n",
            "Epoch 70/1000\n",
            " 1/32 [..............................] - ETA: 0s - loss: 0.6768 - accuracy: 0.7500\n",
            "Epoch 70: saving model to model/keypoint_classifier\\keypoint_classifier.hdf5\n",
            "32/32 [==============================] - 0s 3ms/step - loss: 0.6837 - accuracy: 0.7358 - val_loss: 0.3841 - val_accuracy: 0.9404\n",
            "Epoch 71/1000\n",
            " 1/32 [..............................] - ETA: 0s - loss: 0.7390 - accuracy: 0.7266\n",
            "Epoch 71: saving model to model/keypoint_classifier\\keypoint_classifier.hdf5\n",
            "32/32 [==============================] - 0s 3ms/step - loss: 0.6678 - accuracy: 0.7411 - val_loss: 0.3791 - val_accuracy: 0.9412\n",
            "Epoch 72/1000\n",
            " 1/32 [..............................] - ETA: 0s - loss: 0.7221 - accuracy: 0.6719\n",
            "Epoch 72: saving model to model/keypoint_classifier\\keypoint_classifier.hdf5\n",
            "32/32 [==============================] - 0s 3ms/step - loss: 0.7007 - accuracy: 0.7371 - val_loss: 0.3800 - val_accuracy: 0.9389\n",
            "Epoch 73/1000\n",
            " 1/32 [..............................] - ETA: 0s - loss: 0.7028 - accuracy: 0.7344\n",
            "Epoch 73: saving model to model/keypoint_classifier\\keypoint_classifier.hdf5\n",
            "32/32 [==============================] - 0s 3ms/step - loss: 0.6785 - accuracy: 0.7353 - val_loss: 0.3791 - val_accuracy: 0.9382\n",
            "Epoch 74/1000\n",
            " 1/32 [..............................] - ETA: 0s - loss: 0.6738 - accuracy: 0.7578\n",
            "Epoch 74: saving model to model/keypoint_classifier\\keypoint_classifier.hdf5\n",
            "32/32 [==============================] - 0s 3ms/step - loss: 0.6959 - accuracy: 0.7233 - val_loss: 0.3777 - val_accuracy: 0.9351\n",
            "Epoch 75/1000\n",
            " 1/32 [..............................] - ETA: 0s - loss: 0.7807 - accuracy: 0.6797\n",
            "Epoch 75: saving model to model/keypoint_classifier\\keypoint_classifier.hdf5\n",
            "32/32 [==============================] - 0s 3ms/step - loss: 0.6868 - accuracy: 0.7268 - val_loss: 0.3743 - val_accuracy: 0.9412\n",
            "Epoch 76/1000\n",
            " 1/32 [..............................] - ETA: 0s - loss: 0.6757 - accuracy: 0.7812\n",
            "Epoch 76: saving model to model/keypoint_classifier\\keypoint_classifier.hdf5\n",
            "32/32 [==============================] - 0s 3ms/step - loss: 0.6483 - accuracy: 0.7545 - val_loss: 0.3704 - val_accuracy: 0.9382\n",
            "Epoch 77/1000\n",
            " 1/32 [..............................] - ETA: 0s - loss: 0.7049 - accuracy: 0.7031\n",
            "Epoch 77: saving model to model/keypoint_classifier\\keypoint_classifier.hdf5\n",
            "32/32 [==============================] - 0s 3ms/step - loss: 0.6910 - accuracy: 0.7321 - val_loss: 0.3728 - val_accuracy: 0.9397\n",
            "Epoch 78/1000\n",
            " 1/32 [..............................] - ETA: 0s - loss: 0.6718 - accuracy: 0.7656\n",
            "Epoch 78: saving model to model/keypoint_classifier\\keypoint_classifier.hdf5\n",
            "32/32 [==============================] - 0s 3ms/step - loss: 0.6880 - accuracy: 0.7291 - val_loss: 0.3707 - val_accuracy: 0.9404\n",
            "Epoch 79/1000\n",
            " 1/32 [..............................] - ETA: 0s - loss: 0.7361 - accuracy: 0.7188\n",
            "Epoch 79: saving model to model/keypoint_classifier\\keypoint_classifier.hdf5\n",
            "32/32 [==============================] - 0s 3ms/step - loss: 0.6927 - accuracy: 0.7311 - val_loss: 0.3697 - val_accuracy: 0.9412\n",
            "Epoch 80/1000\n",
            " 1/32 [..............................] - ETA: 0s - loss: 0.7612 - accuracy: 0.6875\n",
            "Epoch 80: saving model to model/keypoint_classifier\\keypoint_classifier.hdf5\n",
            "32/32 [==============================] - 0s 3ms/step - loss: 0.6841 - accuracy: 0.7291 - val_loss: 0.3663 - val_accuracy: 0.9442\n",
            "Epoch 81/1000\n",
            " 1/32 [..............................] - ETA: 0s - loss: 0.6113 - accuracy: 0.7422\n",
            "Epoch 81: saving model to model/keypoint_classifier\\keypoint_classifier.hdf5\n",
            "32/32 [==============================] - 0s 3ms/step - loss: 0.6611 - accuracy: 0.7416 - val_loss: 0.3656 - val_accuracy: 0.9412\n",
            "Epoch 82/1000\n",
            " 1/32 [..............................] - ETA: 0s - loss: 0.7487 - accuracy: 0.7188\n",
            "Epoch 82: saving model to model/keypoint_classifier\\keypoint_classifier.hdf5\n",
            "32/32 [==============================] - 0s 3ms/step - loss: 0.6675 - accuracy: 0.7439 - val_loss: 0.3598 - val_accuracy: 0.9419\n",
            "Epoch 83/1000\n",
            " 1/32 [..............................] - ETA: 0s - loss: 0.5934 - accuracy: 0.8047\n",
            "Epoch 83: saving model to model/keypoint_classifier\\keypoint_classifier.hdf5\n",
            "32/32 [==============================] - 0s 5ms/step - loss: 0.6674 - accuracy: 0.7482 - val_loss: 0.3569 - val_accuracy: 0.9442\n",
            "Epoch 84/1000\n",
            " 1/32 [..............................] - ETA: 0s - loss: 0.7014 - accuracy: 0.7344\n",
            "Epoch 84: saving model to model/keypoint_classifier\\keypoint_classifier.hdf5\n",
            "32/32 [==============================] - 0s 3ms/step - loss: 0.6774 - accuracy: 0.7341 - val_loss: 0.3625 - val_accuracy: 0.9404\n",
            "Epoch 85/1000\n",
            " 1/32 [..............................] - ETA: 0s - loss: 0.5948 - accuracy: 0.7578\n",
            "Epoch 85: saving model to model/keypoint_classifier\\keypoint_classifier.hdf5\n",
            "32/32 [==============================] - 0s 3ms/step - loss: 0.6419 - accuracy: 0.7474 - val_loss: 0.3543 - val_accuracy: 0.9419\n",
            "Epoch 86/1000\n",
            " 1/32 [..............................] - ETA: 0s - loss: 0.6945 - accuracy: 0.7578\n",
            "Epoch 86: saving model to model/keypoint_classifier\\keypoint_classifier.hdf5\n",
            "32/32 [==============================] - 0s 3ms/step - loss: 0.6782 - accuracy: 0.7376 - val_loss: 0.3634 - val_accuracy: 0.9419\n",
            "Epoch 87/1000\n",
            " 1/32 [..............................] - ETA: 0s - loss: 0.7679 - accuracy: 0.6875\n",
            "Epoch 87: saving model to model/keypoint_classifier\\keypoint_classifier.hdf5\n",
            "32/32 [==============================] - 0s 3ms/step - loss: 0.6681 - accuracy: 0.7384 - val_loss: 0.3615 - val_accuracy: 0.9397\n",
            "Epoch 88/1000\n",
            " 1/32 [..............................] - ETA: 0s - loss: 0.5674 - accuracy: 0.8203\n",
            "Epoch 88: saving model to model/keypoint_classifier\\keypoint_classifier.hdf5\n",
            "32/32 [==============================] - 0s 3ms/step - loss: 0.6801 - accuracy: 0.7396 - val_loss: 0.3566 - val_accuracy: 0.9449\n",
            "Epoch 89/1000\n",
            " 1/32 [..............................] - ETA: 0s - loss: 0.7284 - accuracy: 0.7109\n",
            "Epoch 89: saving model to model/keypoint_classifier\\keypoint_classifier.hdf5\n",
            "32/32 [==============================] - 0s 3ms/step - loss: 0.6637 - accuracy: 0.7436 - val_loss: 0.3520 - val_accuracy: 0.9465\n",
            "Epoch 90/1000\n",
            " 1/32 [..............................] - ETA: 0s - loss: 0.6698 - accuracy: 0.7109\n",
            "Epoch 90: saving model to model/keypoint_classifier\\keypoint_classifier.hdf5\n",
            "32/32 [==============================] - 0s 3ms/step - loss: 0.6574 - accuracy: 0.7444 - val_loss: 0.3507 - val_accuracy: 0.9412\n",
            "Epoch 91/1000\n",
            " 1/32 [..............................] - ETA: 0s - loss: 0.6852 - accuracy: 0.7422\n",
            "Epoch 91: saving model to model/keypoint_classifier\\keypoint_classifier.hdf5\n",
            "32/32 [==============================] - 0s 3ms/step - loss: 0.6685 - accuracy: 0.7394 - val_loss: 0.3445 - val_accuracy: 0.9465\n",
            "Epoch 92/1000\n",
            " 1/32 [..............................] - ETA: 0s - loss: 0.6042 - accuracy: 0.7812\n",
            "Epoch 92: saving model to model/keypoint_classifier\\keypoint_classifier.hdf5\n",
            "32/32 [==============================] - 0s 3ms/step - loss: 0.6616 - accuracy: 0.7364 - val_loss: 0.3492 - val_accuracy: 0.9427\n",
            "Epoch 93/1000\n",
            " 1/32 [..............................] - ETA: 0s - loss: 0.5654 - accuracy: 0.7812\n",
            "Epoch 93: saving model to model/keypoint_classifier\\keypoint_classifier.hdf5\n",
            "32/32 [==============================] - 0s 3ms/step - loss: 0.6455 - accuracy: 0.7560 - val_loss: 0.3420 - val_accuracy: 0.9419\n",
            "Epoch 94/1000\n",
            " 1/32 [..............................] - ETA: 0s - loss: 0.6456 - accuracy: 0.7578\n",
            "Epoch 94: saving model to model/keypoint_classifier\\keypoint_classifier.hdf5\n",
            "32/32 [==============================] - 0s 3ms/step - loss: 0.6460 - accuracy: 0.7467 - val_loss: 0.3420 - val_accuracy: 0.9427\n",
            "Epoch 95/1000\n",
            " 1/32 [..............................] - ETA: 0s - loss: 0.6395 - accuracy: 0.7578\n",
            "Epoch 95: saving model to model/keypoint_classifier\\keypoint_classifier.hdf5\n",
            "32/32 [==============================] - 0s 3ms/step - loss: 0.6618 - accuracy: 0.7396 - val_loss: 0.3377 - val_accuracy: 0.9442\n",
            "Epoch 96/1000\n",
            " 1/32 [..............................] - ETA: 0s - loss: 0.6730 - accuracy: 0.7031\n",
            "Epoch 96: saving model to model/keypoint_classifier\\keypoint_classifier.hdf5\n",
            "32/32 [==============================] - 0s 3ms/step - loss: 0.6721 - accuracy: 0.7454 - val_loss: 0.3372 - val_accuracy: 0.9412\n",
            "Epoch 97/1000\n",
            " 1/32 [..............................] - ETA: 0s - loss: 0.6031 - accuracy: 0.7422\n",
            "Epoch 97: saving model to model/keypoint_classifier\\keypoint_classifier.hdf5\n",
            "32/32 [==============================] - 0s 3ms/step - loss: 0.6530 - accuracy: 0.7595 - val_loss: 0.3344 - val_accuracy: 0.9457\n",
            "Epoch 98/1000\n",
            " 1/32 [..............................] - ETA: 0s - loss: 0.6534 - accuracy: 0.7031\n",
            "Epoch 98: saving model to model/keypoint_classifier\\keypoint_classifier.hdf5\n",
            "32/32 [==============================] - 0s 3ms/step - loss: 0.6580 - accuracy: 0.7552 - val_loss: 0.3295 - val_accuracy: 0.9457\n",
            "Epoch 99/1000\n",
            " 1/32 [..............................] - ETA: 0s - loss: 0.6843 - accuracy: 0.6953\n",
            "Epoch 99: saving model to model/keypoint_classifier\\keypoint_classifier.hdf5\n",
            "32/32 [==============================] - 0s 3ms/step - loss: 0.6450 - accuracy: 0.7542 - val_loss: 0.3338 - val_accuracy: 0.9434\n",
            "Epoch 100/1000\n",
            " 1/32 [..............................] - ETA: 0s - loss: 0.5979 - accuracy: 0.8047\n",
            "Epoch 100: saving model to model/keypoint_classifier\\keypoint_classifier.hdf5\n",
            "32/32 [==============================] - 0s 3ms/step - loss: 0.6478 - accuracy: 0.7572 - val_loss: 0.3355 - val_accuracy: 0.9495\n",
            "Epoch 101/1000\n",
            " 1/32 [..............................] - ETA: 0s - loss: 0.5449 - accuracy: 0.7969\n",
            "Epoch 101: saving model to model/keypoint_classifier\\keypoint_classifier.hdf5\n",
            "32/32 [==============================] - 0s 3ms/step - loss: 0.6212 - accuracy: 0.7577 - val_loss: 0.3291 - val_accuracy: 0.9442\n",
            "Epoch 102/1000\n",
            " 1/32 [..............................] - ETA: 0s - loss: 0.7717 - accuracy: 0.6797\n",
            "Epoch 102: saving model to model/keypoint_classifier\\keypoint_classifier.hdf5\n",
            "32/32 [==============================] - 0s 3ms/step - loss: 0.6403 - accuracy: 0.7467 - val_loss: 0.3331 - val_accuracy: 0.9389\n",
            "Epoch 103/1000\n",
            " 1/32 [..............................] - ETA: 0s - loss: 0.7138 - accuracy: 0.7031\n",
            "Epoch 103: saving model to model/keypoint_classifier\\keypoint_classifier.hdf5\n",
            "32/32 [==============================] - 0s 3ms/step - loss: 0.6487 - accuracy: 0.7424 - val_loss: 0.3319 - val_accuracy: 0.9389\n",
            "Epoch 104/1000\n",
            " 1/32 [..............................] - ETA: 0s - loss: 0.6709 - accuracy: 0.7266\n",
            "Epoch 104: saving model to model/keypoint_classifier\\keypoint_classifier.hdf5\n",
            "32/32 [==============================] - 0s 3ms/step - loss: 0.6408 - accuracy: 0.7557 - val_loss: 0.3301 - val_accuracy: 0.9419\n",
            "Epoch 105/1000\n",
            " 1/32 [..............................] - ETA: 0s - loss: 0.5183 - accuracy: 0.8047\n",
            "Epoch 105: saving model to model/keypoint_classifier\\keypoint_classifier.hdf5\n",
            "32/32 [==============================] - 0s 3ms/step - loss: 0.6442 - accuracy: 0.7567 - val_loss: 0.3335 - val_accuracy: 0.9449\n",
            "Epoch 106/1000\n",
            " 1/32 [..............................] - ETA: 0s - loss: 0.6282 - accuracy: 0.7656\n",
            "Epoch 106: saving model to model/keypoint_classifier\\keypoint_classifier.hdf5\n",
            "32/32 [==============================] - 0s 4ms/step - loss: 0.6302 - accuracy: 0.7590 - val_loss: 0.3297 - val_accuracy: 0.9449\n",
            "Epoch 107/1000\n",
            " 1/32 [..............................] - ETA: 0s - loss: 0.6277 - accuracy: 0.7500\n",
            "Epoch 107: saving model to model/keypoint_classifier\\keypoint_classifier.hdf5\n",
            "32/32 [==============================] - 0s 3ms/step - loss: 0.6327 - accuracy: 0.7497 - val_loss: 0.3340 - val_accuracy: 0.9389\n",
            "Epoch 108/1000\n",
            " 1/32 [..............................] - ETA: 0s - loss: 0.6835 - accuracy: 0.7344\n",
            "Epoch 108: saving model to model/keypoint_classifier\\keypoint_classifier.hdf5\n",
            "32/32 [==============================] - 0s 3ms/step - loss: 0.6335 - accuracy: 0.7482 - val_loss: 0.3275 - val_accuracy: 0.9449\n",
            "Epoch 109/1000\n",
            " 1/32 [..............................] - ETA: 0s - loss: 0.6031 - accuracy: 0.7578\n",
            "Epoch 109: saving model to model/keypoint_classifier\\keypoint_classifier.hdf5\n",
            "32/32 [==============================] - 0s 3ms/step - loss: 0.6433 - accuracy: 0.7572 - val_loss: 0.3241 - val_accuracy: 0.9442\n",
            "Epoch 110/1000\n",
            " 1/32 [..............................] - ETA: 0s - loss: 0.6577 - accuracy: 0.7578\n",
            "Epoch 110: saving model to model/keypoint_classifier\\keypoint_classifier.hdf5\n",
            "32/32 [==============================] - 0s 3ms/step - loss: 0.6470 - accuracy: 0.7449 - val_loss: 0.3243 - val_accuracy: 0.9472\n",
            "Epoch 111/1000\n",
            " 1/32 [..............................] - ETA: 0s - loss: 0.6129 - accuracy: 0.7891\n",
            "Epoch 111: saving model to model/keypoint_classifier\\keypoint_classifier.hdf5\n",
            "32/32 [==============================] - 0s 3ms/step - loss: 0.6375 - accuracy: 0.7499 - val_loss: 0.3311 - val_accuracy: 0.9472\n",
            "Epoch 112/1000\n",
            " 1/32 [..............................] - ETA: 0s - loss: 0.6626 - accuracy: 0.7188\n",
            "Epoch 112: saving model to model/keypoint_classifier\\keypoint_classifier.hdf5\n",
            "32/32 [==============================] - 0s 3ms/step - loss: 0.6415 - accuracy: 0.7519 - val_loss: 0.3267 - val_accuracy: 0.9397\n",
            "Epoch 113/1000\n",
            " 1/32 [..............................] - ETA: 0s - loss: 0.6231 - accuracy: 0.7734\n",
            "Epoch 113: saving model to model/keypoint_classifier\\keypoint_classifier.hdf5\n",
            "32/32 [==============================] - 0s 3ms/step - loss: 0.6228 - accuracy: 0.7580 - val_loss: 0.3242 - val_accuracy: 0.9495\n",
            "Epoch 114/1000\n",
            " 1/32 [..............................] - ETA: 0s - loss: 0.6822 - accuracy: 0.7109\n",
            "Epoch 114: saving model to model/keypoint_classifier\\keypoint_classifier.hdf5\n",
            "32/32 [==============================] - 0s 3ms/step - loss: 0.6394 - accuracy: 0.7532 - val_loss: 0.3247 - val_accuracy: 0.9449\n",
            "Epoch 115/1000\n",
            " 1/32 [..............................] - ETA: 0s - loss: 0.6201 - accuracy: 0.7344\n",
            "Epoch 115: saving model to model/keypoint_classifier\\keypoint_classifier.hdf5\n",
            "32/32 [==============================] - 0s 3ms/step - loss: 0.6323 - accuracy: 0.7449 - val_loss: 0.3218 - val_accuracy: 0.9427\n",
            "Epoch 116/1000\n",
            " 1/32 [..............................] - ETA: 0s - loss: 0.7090 - accuracy: 0.7656\n",
            "Epoch 116: saving model to model/keypoint_classifier\\keypoint_classifier.hdf5\n",
            "32/32 [==============================] - 0s 3ms/step - loss: 0.6120 - accuracy: 0.7635 - val_loss: 0.3116 - val_accuracy: 0.9419\n",
            "Epoch 117/1000\n",
            " 1/32 [..............................] - ETA: 0s - loss: 0.6398 - accuracy: 0.7734\n",
            "Epoch 117: saving model to model/keypoint_classifier\\keypoint_classifier.hdf5\n",
            "32/32 [==============================] - 0s 3ms/step - loss: 0.6377 - accuracy: 0.7545 - val_loss: 0.3112 - val_accuracy: 0.9487\n",
            "Epoch 118/1000\n",
            " 1/32 [..............................] - ETA: 0s - loss: 0.5705 - accuracy: 0.8203\n",
            "Epoch 118: saving model to model/keypoint_classifier\\keypoint_classifier.hdf5\n",
            "32/32 [==============================] - 0s 3ms/step - loss: 0.6105 - accuracy: 0.7633 - val_loss: 0.3135 - val_accuracy: 0.9434\n",
            "Epoch 119/1000\n",
            " 1/32 [..............................] - ETA: 0s - loss: 0.7071 - accuracy: 0.7109\n",
            "Epoch 119: saving model to model/keypoint_classifier\\keypoint_classifier.hdf5\n",
            "32/32 [==============================] - 0s 3ms/step - loss: 0.6261 - accuracy: 0.7542 - val_loss: 0.3104 - val_accuracy: 0.9495\n",
            "Epoch 120/1000\n",
            " 1/32 [..............................] - ETA: 0s - loss: 0.5976 - accuracy: 0.7734\n",
            "Epoch 120: saving model to model/keypoint_classifier\\keypoint_classifier.hdf5\n",
            "32/32 [==============================] - 0s 3ms/step - loss: 0.6348 - accuracy: 0.7575 - val_loss: 0.3079 - val_accuracy: 0.9472\n",
            "Epoch 121/1000\n",
            " 1/32 [..............................] - ETA: 0s - loss: 0.5174 - accuracy: 0.7969\n",
            "Epoch 121: saving model to model/keypoint_classifier\\keypoint_classifier.hdf5\n",
            "32/32 [==============================] - 0s 3ms/step - loss: 0.6191 - accuracy: 0.7648 - val_loss: 0.3080 - val_accuracy: 0.9495\n",
            "Epoch 122/1000\n",
            " 1/32 [..............................] - ETA: 0s - loss: 0.7396 - accuracy: 0.6719\n",
            "Epoch 122: saving model to model/keypoint_classifier\\keypoint_classifier.hdf5\n",
            "32/32 [==============================] - 0s 3ms/step - loss: 0.6160 - accuracy: 0.7615 - val_loss: 0.3059 - val_accuracy: 0.9472\n",
            "Epoch 123/1000\n",
            " 1/32 [..............................] - ETA: 0s - loss: 0.6026 - accuracy: 0.7578\n",
            "Epoch 123: saving model to model/keypoint_classifier\\keypoint_classifier.hdf5\n",
            "32/32 [==============================] - 0s 3ms/step - loss: 0.6178 - accuracy: 0.7643 - val_loss: 0.3019 - val_accuracy: 0.9487\n",
            "Epoch 124/1000\n",
            " 1/32 [..............................] - ETA: 0s - loss: 0.6136 - accuracy: 0.7578\n",
            "Epoch 124: saving model to model/keypoint_classifier\\keypoint_classifier.hdf5\n",
            "32/32 [==============================] - 0s 3ms/step - loss: 0.6233 - accuracy: 0.7620 - val_loss: 0.3048 - val_accuracy: 0.9495\n",
            "Epoch 125/1000\n",
            " 1/32 [..............................] - ETA: 0s - loss: 0.7201 - accuracy: 0.7266\n",
            "Epoch 125: saving model to model/keypoint_classifier\\keypoint_classifier.hdf5\n",
            "32/32 [==============================] - 0s 3ms/step - loss: 0.6189 - accuracy: 0.7658 - val_loss: 0.3063 - val_accuracy: 0.9525\n",
            "Epoch 126/1000\n",
            " 1/32 [..............................] - ETA: 0s - loss: 0.6106 - accuracy: 0.7500\n",
            "Epoch 126: saving model to model/keypoint_classifier\\keypoint_classifier.hdf5\n",
            "32/32 [==============================] - 0s 3ms/step - loss: 0.6348 - accuracy: 0.7530 - val_loss: 0.3118 - val_accuracy: 0.9502\n",
            "Epoch 127/1000\n",
            " 1/32 [..............................] - ETA: 0s - loss: 0.6524 - accuracy: 0.7734\n",
            "Epoch 127: saving model to model/keypoint_classifier\\keypoint_classifier.hdf5\n",
            "32/32 [==============================] - 0s 3ms/step - loss: 0.6093 - accuracy: 0.7633 - val_loss: 0.3094 - val_accuracy: 0.9525\n",
            "Epoch 128/1000\n",
            " 1/32 [..............................] - ETA: 0s - loss: 0.6189 - accuracy: 0.8047\n",
            "Epoch 128: saving model to model/keypoint_classifier\\keypoint_classifier.hdf5\n",
            "32/32 [==============================] - 0s 3ms/step - loss: 0.6076 - accuracy: 0.7701 - val_loss: 0.3046 - val_accuracy: 0.9480\n",
            "Epoch 129/1000\n",
            " 1/32 [..............................] - ETA: 0s - loss: 0.3826 - accuracy: 0.8828\n",
            "Epoch 129: saving model to model/keypoint_classifier\\keypoint_classifier.hdf5\n",
            "32/32 [==============================] - 0s 3ms/step - loss: 0.6036 - accuracy: 0.7683 - val_loss: 0.3016 - val_accuracy: 0.9525\n",
            "Epoch 130/1000\n",
            " 1/32 [..............................] - ETA: 0s - loss: 0.5402 - accuracy: 0.7812\n",
            "Epoch 130: saving model to model/keypoint_classifier\\keypoint_classifier.hdf5\n",
            "32/32 [==============================] - 0s 3ms/step - loss: 0.6140 - accuracy: 0.7741 - val_loss: 0.3001 - val_accuracy: 0.9510\n",
            "Epoch 131/1000\n",
            " 1/32 [..............................] - ETA: 0s - loss: 0.6472 - accuracy: 0.7344\n",
            "Epoch 131: saving model to model/keypoint_classifier\\keypoint_classifier.hdf5\n",
            "32/32 [==============================] - 0s 3ms/step - loss: 0.6399 - accuracy: 0.7527 - val_loss: 0.3032 - val_accuracy: 0.9502\n",
            "Epoch 132/1000\n",
            " 1/32 [..............................] - ETA: 0s - loss: 0.6067 - accuracy: 0.7969\n",
            "Epoch 132: saving model to model/keypoint_classifier\\keypoint_classifier.hdf5\n",
            "32/32 [==============================] - 0s 3ms/step - loss: 0.6408 - accuracy: 0.7469 - val_loss: 0.3048 - val_accuracy: 0.9502\n",
            "Epoch 133/1000\n",
            " 1/32 [..............................] - ETA: 0s - loss: 0.6310 - accuracy: 0.7891\n",
            "Epoch 133: saving model to model/keypoint_classifier\\keypoint_classifier.hdf5\n",
            "32/32 [==============================] - 0s 3ms/step - loss: 0.6251 - accuracy: 0.7547 - val_loss: 0.3055 - val_accuracy: 0.9517\n",
            "Epoch 134/1000\n",
            " 1/32 [..............................] - ETA: 0s - loss: 0.5536 - accuracy: 0.7891\n",
            "Epoch 134: saving model to model/keypoint_classifier\\keypoint_classifier.hdf5\n",
            "32/32 [==============================] - 0s 3ms/step - loss: 0.6032 - accuracy: 0.7670 - val_loss: 0.2970 - val_accuracy: 0.9540\n",
            "Epoch 135/1000\n",
            "25/32 [======================>.......] - ETA: 0s - loss: 0.6159 - accuracy: 0.7663\n",
            "Epoch 135: saving model to model/keypoint_classifier\\keypoint_classifier.hdf5\n",
            "32/32 [==============================] - 0s 13ms/step - loss: 0.6188 - accuracy: 0.7638 - val_loss: 0.2945 - val_accuracy: 0.9540\n",
            "Epoch 136/1000\n",
            " 1/32 [..............................] - ETA: 0s - loss: 0.6458 - accuracy: 0.7500\n",
            "Epoch 136: saving model to model/keypoint_classifier\\keypoint_classifier.hdf5\n",
            "32/32 [==============================] - 0s 3ms/step - loss: 0.6011 - accuracy: 0.7743 - val_loss: 0.2941 - val_accuracy: 0.9540\n",
            "Epoch 137/1000\n",
            " 1/32 [..............................] - ETA: 0s - loss: 0.5751 - accuracy: 0.7656\n",
            "Epoch 137: saving model to model/keypoint_classifier\\keypoint_classifier.hdf5\n",
            "32/32 [==============================] - 0s 3ms/step - loss: 0.5940 - accuracy: 0.7758 - val_loss: 0.3003 - val_accuracy: 0.9449\n",
            "Epoch 138/1000\n",
            " 1/32 [..............................] - ETA: 0s - loss: 0.5319 - accuracy: 0.7891\n",
            "Epoch 138: saving model to model/keypoint_classifier\\keypoint_classifier.hdf5\n",
            "32/32 [==============================] - 0s 3ms/step - loss: 0.6147 - accuracy: 0.7638 - val_loss: 0.2995 - val_accuracy: 0.9525\n",
            "Epoch 139/1000\n",
            " 1/32 [..............................] - ETA: 0s - loss: 0.6319 - accuracy: 0.7969\n",
            "Epoch 139: saving model to model/keypoint_classifier\\keypoint_classifier.hdf5\n",
            "32/32 [==============================] - 0s 3ms/step - loss: 0.6077 - accuracy: 0.7643 - val_loss: 0.2936 - val_accuracy: 0.9495\n",
            "Epoch 140/1000\n",
            " 1/32 [..............................] - ETA: 0s - loss: 0.5628 - accuracy: 0.8047\n",
            "Epoch 140: saving model to model/keypoint_classifier\\keypoint_classifier.hdf5\n",
            "32/32 [==============================] - 0s 3ms/step - loss: 0.6175 - accuracy: 0.7545 - val_loss: 0.2895 - val_accuracy: 0.9540\n",
            "Epoch 141/1000\n",
            " 1/32 [..............................] - ETA: 0s - loss: 0.6151 - accuracy: 0.7656\n",
            "Epoch 141: saving model to model/keypoint_classifier\\keypoint_classifier.hdf5\n",
            "32/32 [==============================] - 0s 3ms/step - loss: 0.6205 - accuracy: 0.7592 - val_loss: 0.3028 - val_accuracy: 0.9563\n",
            "Epoch 142/1000\n",
            " 1/32 [..............................] - ETA: 0s - loss: 0.5822 - accuracy: 0.7188\n",
            "Epoch 142: saving model to model/keypoint_classifier\\keypoint_classifier.hdf5\n",
            "32/32 [==============================] - 0s 3ms/step - loss: 0.6067 - accuracy: 0.7645 - val_loss: 0.2961 - val_accuracy: 0.9578\n",
            "Epoch 143/1000\n",
            " 1/32 [..............................] - ETA: 0s - loss: 0.3580 - accuracy: 0.9062\n",
            "Epoch 143: saving model to model/keypoint_classifier\\keypoint_classifier.hdf5\n",
            "32/32 [==============================] - 0s 3ms/step - loss: 0.5923 - accuracy: 0.7713 - val_loss: 0.2977 - val_accuracy: 0.9517\n",
            "Epoch 144/1000\n",
            " 1/32 [..............................] - ETA: 0s - loss: 0.5485 - accuracy: 0.7578\n",
            "Epoch 144: saving model to model/keypoint_classifier\\keypoint_classifier.hdf5\n",
            "32/32 [==============================] - 0s 4ms/step - loss: 0.6076 - accuracy: 0.7615 - val_loss: 0.2943 - val_accuracy: 0.9502\n",
            "Epoch 145/1000\n",
            " 1/32 [..............................] - ETA: 0s - loss: 0.4308 - accuracy: 0.8281\n",
            "Epoch 145: saving model to model/keypoint_classifier\\keypoint_classifier.hdf5\n",
            "32/32 [==============================] - 0s 4ms/step - loss: 0.6015 - accuracy: 0.7691 - val_loss: 0.2871 - val_accuracy: 0.9593\n",
            "Epoch 146/1000\n",
            " 1/32 [..............................] - ETA: 0s - loss: 0.5929 - accuracy: 0.7812\n",
            "Epoch 146: saving model to model/keypoint_classifier\\keypoint_classifier.hdf5\n",
            "32/32 [==============================] - 0s 3ms/step - loss: 0.5939 - accuracy: 0.7748 - val_loss: 0.2850 - val_accuracy: 0.9600\n",
            "Epoch 147/1000\n",
            " 1/32 [..............................] - ETA: 0s - loss: 0.5381 - accuracy: 0.7656\n",
            "Epoch 147: saving model to model/keypoint_classifier\\keypoint_classifier.hdf5\n",
            "32/32 [==============================] - 0s 3ms/step - loss: 0.6091 - accuracy: 0.7575 - val_loss: 0.2880 - val_accuracy: 0.9548\n",
            "Epoch 148/1000\n",
            " 1/32 [..............................] - ETA: 0s - loss: 0.6796 - accuracy: 0.7656\n",
            "Epoch 148: saving model to model/keypoint_classifier\\keypoint_classifier.hdf5\n",
            "32/32 [==============================] - 0s 3ms/step - loss: 0.5989 - accuracy: 0.7653 - val_loss: 0.2867 - val_accuracy: 0.9517\n",
            "Epoch 149/1000\n",
            " 1/32 [..............................] - ETA: 0s - loss: 0.6246 - accuracy: 0.7578\n",
            "Epoch 149: saving model to model/keypoint_classifier\\keypoint_classifier.hdf5\n",
            "32/32 [==============================] - 0s 3ms/step - loss: 0.5991 - accuracy: 0.7708 - val_loss: 0.2850 - val_accuracy: 0.9570\n",
            "Epoch 150/1000\n",
            " 1/32 [..............................] - ETA: 0s - loss: 0.6158 - accuracy: 0.7578\n",
            "Epoch 150: saving model to model/keypoint_classifier\\keypoint_classifier.hdf5\n",
            "32/32 [==============================] - 0s 3ms/step - loss: 0.6223 - accuracy: 0.7605 - val_loss: 0.2886 - val_accuracy: 0.9570\n",
            "Epoch 151/1000\n",
            " 1/32 [..............................] - ETA: 0s - loss: 0.6507 - accuracy: 0.7969\n",
            "Epoch 151: saving model to model/keypoint_classifier\\keypoint_classifier.hdf5\n",
            "32/32 [==============================] - 0s 3ms/step - loss: 0.5933 - accuracy: 0.7718 - val_loss: 0.2842 - val_accuracy: 0.9608\n",
            "Epoch 152/1000\n",
            " 1/32 [..............................] - ETA: 0s - loss: 0.5039 - accuracy: 0.7969\n",
            "Epoch 152: saving model to model/keypoint_classifier\\keypoint_classifier.hdf5\n",
            "32/32 [==============================] - 0s 3ms/step - loss: 0.5914 - accuracy: 0.7696 - val_loss: 0.2850 - val_accuracy: 0.9585\n",
            "Epoch 153/1000\n",
            " 1/32 [..............................] - ETA: 0s - loss: 0.6081 - accuracy: 0.7578\n",
            "Epoch 153: saving model to model/keypoint_classifier\\keypoint_classifier.hdf5\n",
            "32/32 [==============================] - 0s 4ms/step - loss: 0.5922 - accuracy: 0.7731 - val_loss: 0.2816 - val_accuracy: 0.9578\n",
            "Epoch 154/1000\n",
            " 1/32 [..............................] - ETA: 0s - loss: 0.6524 - accuracy: 0.7812\n",
            "Epoch 154: saving model to model/keypoint_classifier\\keypoint_classifier.hdf5\n",
            "32/32 [==============================] - 0s 3ms/step - loss: 0.6014 - accuracy: 0.7628 - val_loss: 0.2862 - val_accuracy: 0.9555\n",
            "Epoch 155/1000\n",
            " 1/32 [..............................] - ETA: 0s - loss: 0.5912 - accuracy: 0.7578\n",
            "Epoch 155: saving model to model/keypoint_classifier\\keypoint_classifier.hdf5\n",
            "32/32 [==============================] - 0s 3ms/step - loss: 0.6199 - accuracy: 0.7618 - val_loss: 0.2823 - val_accuracy: 0.9570\n",
            "Epoch 156/1000\n",
            " 1/32 [..............................] - ETA: 0s - loss: 0.4951 - accuracy: 0.7969\n",
            "Epoch 156: saving model to model/keypoint_classifier\\keypoint_classifier.hdf5\n",
            "32/32 [==============================] - 0s 3ms/step - loss: 0.5987 - accuracy: 0.7746 - val_loss: 0.2946 - val_accuracy: 0.9563\n",
            "Epoch 157/1000\n",
            " 1/32 [..............................] - ETA: 0s - loss: 0.5638 - accuracy: 0.7969\n",
            "Epoch 157: saving model to model/keypoint_classifier\\keypoint_classifier.hdf5\n",
            "32/32 [==============================] - 0s 3ms/step - loss: 0.5908 - accuracy: 0.7615 - val_loss: 0.2816 - val_accuracy: 0.9608\n",
            "Epoch 158/1000\n",
            " 1/32 [..............................] - ETA: 0s - loss: 0.5832 - accuracy: 0.8125\n",
            "Epoch 158: saving model to model/keypoint_classifier\\keypoint_classifier.hdf5\n",
            "32/32 [==============================] - 0s 3ms/step - loss: 0.5914 - accuracy: 0.7756 - val_loss: 0.2756 - val_accuracy: 0.9593\n",
            "Epoch 159/1000\n",
            " 1/32 [..............................] - ETA: 0s - loss: 0.6286 - accuracy: 0.7734\n",
            "Epoch 159: saving model to model/keypoint_classifier\\keypoint_classifier.hdf5\n",
            "32/32 [==============================] - 0s 3ms/step - loss: 0.5885 - accuracy: 0.7691 - val_loss: 0.2783 - val_accuracy: 0.9585\n",
            "Epoch 160/1000\n",
            " 1/32 [..............................] - ETA: 0s - loss: 0.5471 - accuracy: 0.7656\n",
            "Epoch 160: saving model to model/keypoint_classifier\\keypoint_classifier.hdf5\n",
            "32/32 [==============================] - 0s 3ms/step - loss: 0.5937 - accuracy: 0.7698 - val_loss: 0.2857 - val_accuracy: 0.9593\n",
            "Epoch 161/1000\n",
            " 1/32 [..............................] - ETA: 0s - loss: 0.5854 - accuracy: 0.7812\n",
            "Epoch 161: saving model to model/keypoint_classifier\\keypoint_classifier.hdf5\n",
            "32/32 [==============================] - 0s 3ms/step - loss: 0.5881 - accuracy: 0.7728 - val_loss: 0.2769 - val_accuracy: 0.9646\n",
            "Epoch 162/1000\n",
            " 1/32 [..............................] - ETA: 0s - loss: 0.5633 - accuracy: 0.7656\n",
            "Epoch 162: saving model to model/keypoint_classifier\\keypoint_classifier.hdf5\n",
            "32/32 [==============================] - 0s 3ms/step - loss: 0.5874 - accuracy: 0.7784 - val_loss: 0.2740 - val_accuracy: 0.9615\n",
            "Epoch 163/1000\n",
            " 1/32 [..............................] - ETA: 0s - loss: 0.5382 - accuracy: 0.8125\n",
            "Epoch 163: saving model to model/keypoint_classifier\\keypoint_classifier.hdf5\n",
            "32/32 [==============================] - 0s 3ms/step - loss: 0.5752 - accuracy: 0.7824 - val_loss: 0.2734 - val_accuracy: 0.9585\n",
            "Epoch 164/1000\n",
            " 1/32 [..............................] - ETA: 0s - loss: 0.5744 - accuracy: 0.7969\n",
            "Epoch 164: saving model to model/keypoint_classifier\\keypoint_classifier.hdf5\n",
            "32/32 [==============================] - 0s 3ms/step - loss: 0.5763 - accuracy: 0.7814 - val_loss: 0.2789 - val_accuracy: 0.9593\n",
            "Epoch 165/1000\n",
            " 1/32 [..............................] - ETA: 0s - loss: 0.6670 - accuracy: 0.7656\n",
            "Epoch 165: saving model to model/keypoint_classifier\\keypoint_classifier.hdf5\n",
            "32/32 [==============================] - 0s 3ms/step - loss: 0.5934 - accuracy: 0.7691 - val_loss: 0.2825 - val_accuracy: 0.9555\n",
            "Epoch 166/1000\n",
            " 1/32 [..............................] - ETA: 0s - loss: 0.5565 - accuracy: 0.7969\n",
            "Epoch 166: saving model to model/keypoint_classifier\\keypoint_classifier.hdf5\n",
            "32/32 [==============================] - 0s 3ms/step - loss: 0.5799 - accuracy: 0.7809 - val_loss: 0.2803 - val_accuracy: 0.9510\n",
            "Epoch 167/1000\n",
            " 1/32 [..............................] - ETA: 0s - loss: 0.5608 - accuracy: 0.7812\n",
            "Epoch 167: saving model to model/keypoint_classifier\\keypoint_classifier.hdf5\n",
            "32/32 [==============================] - 0s 3ms/step - loss: 0.5895 - accuracy: 0.7703 - val_loss: 0.2844 - val_accuracy: 0.9578\n",
            "Epoch 168/1000\n",
            " 1/32 [..............................] - ETA: 0s - loss: 0.7089 - accuracy: 0.7656\n",
            "Epoch 168: saving model to model/keypoint_classifier\\keypoint_classifier.hdf5\n",
            "32/32 [==============================] - 0s 3ms/step - loss: 0.5913 - accuracy: 0.7723 - val_loss: 0.2781 - val_accuracy: 0.9563\n",
            "Epoch 169/1000\n",
            " 1/32 [..............................] - ETA: 0s - loss: 0.5239 - accuracy: 0.8203\n",
            "Epoch 169: saving model to model/keypoint_classifier\\keypoint_classifier.hdf5\n",
            "32/32 [==============================] - 0s 3ms/step - loss: 0.5873 - accuracy: 0.7731 - val_loss: 0.2691 - val_accuracy: 0.9630\n",
            "Epoch 170/1000\n",
            "31/32 [============================>.] - ETA: 0s - loss: 0.5868 - accuracy: 0.7727\n",
            "Epoch 170: saving model to model/keypoint_classifier\\keypoint_classifier.hdf5\n",
            "32/32 [==============================] - 0s 3ms/step - loss: 0.5865 - accuracy: 0.7726 - val_loss: 0.2823 - val_accuracy: 0.9585\n",
            "Epoch 171/1000\n",
            " 1/32 [..............................] - ETA: 0s - loss: 0.6761 - accuracy: 0.7266\n",
            "Epoch 171: saving model to model/keypoint_classifier\\keypoint_classifier.hdf5\n",
            "32/32 [==============================] - 0s 3ms/step - loss: 0.5744 - accuracy: 0.7761 - val_loss: 0.2793 - val_accuracy: 0.9555\n",
            "Epoch 172/1000\n",
            " 1/32 [..............................] - ETA: 0s - loss: 0.6617 - accuracy: 0.7422\n",
            "Epoch 172: saving model to model/keypoint_classifier\\keypoint_classifier.hdf5\n",
            "32/32 [==============================] - 0s 3ms/step - loss: 0.5732 - accuracy: 0.7801 - val_loss: 0.2743 - val_accuracy: 0.9578\n",
            "Epoch 173/1000\n",
            " 1/32 [..............................] - ETA: 0s - loss: 0.5535 - accuracy: 0.7812\n",
            "Epoch 173: saving model to model/keypoint_classifier\\keypoint_classifier.hdf5\n",
            "32/32 [==============================] - 0s 3ms/step - loss: 0.5927 - accuracy: 0.7771 - val_loss: 0.2734 - val_accuracy: 0.9615\n",
            "Epoch 174/1000\n",
            " 1/32 [..............................] - ETA: 0s - loss: 0.5751 - accuracy: 0.7969\n",
            "Epoch 174: saving model to model/keypoint_classifier\\keypoint_classifier.hdf5\n",
            "32/32 [==============================] - 0s 3ms/step - loss: 0.6162 - accuracy: 0.7623 - val_loss: 0.2769 - val_accuracy: 0.9570\n",
            "Epoch 175/1000\n",
            " 1/32 [..............................] - ETA: 0s - loss: 0.6418 - accuracy: 0.7344\n",
            "Epoch 175: saving model to model/keypoint_classifier\\keypoint_classifier.hdf5\n",
            "32/32 [==============================] - 0s 3ms/step - loss: 0.5824 - accuracy: 0.7743 - val_loss: 0.2786 - val_accuracy: 0.9623\n",
            "Epoch 176/1000\n",
            " 1/32 [..............................] - ETA: 0s - loss: 0.6088 - accuracy: 0.7812\n",
            "Epoch 176: saving model to model/keypoint_classifier\\keypoint_classifier.hdf5\n",
            "32/32 [==============================] - 0s 3ms/step - loss: 0.6104 - accuracy: 0.7618 - val_loss: 0.2803 - val_accuracy: 0.9608\n",
            "Epoch 177/1000\n",
            " 1/32 [..............................] - ETA: 0s - loss: 0.5629 - accuracy: 0.8203\n",
            "Epoch 177: saving model to model/keypoint_classifier\\keypoint_classifier.hdf5\n",
            "32/32 [==============================] - 0s 3ms/step - loss: 0.5756 - accuracy: 0.7864 - val_loss: 0.2785 - val_accuracy: 0.9615\n",
            "Epoch 178/1000\n",
            " 1/32 [..............................] - ETA: 0s - loss: 0.6671 - accuracy: 0.7656\n",
            "Epoch 178: saving model to model/keypoint_classifier\\keypoint_classifier.hdf5\n",
            "32/32 [==============================] - 0s 3ms/step - loss: 0.5821 - accuracy: 0.7736 - val_loss: 0.2773 - val_accuracy: 0.9593\n",
            "Epoch 179/1000\n",
            " 1/32 [..............................] - ETA: 0s - loss: 0.5382 - accuracy: 0.8281\n",
            "Epoch 179: saving model to model/keypoint_classifier\\keypoint_classifier.hdf5\n",
            "32/32 [==============================] - 0s 3ms/step - loss: 0.5797 - accuracy: 0.7756 - val_loss: 0.2718 - val_accuracy: 0.9593\n",
            "Epoch 180/1000\n",
            " 1/32 [..............................] - ETA: 0s - loss: 0.5763 - accuracy: 0.7969\n",
            "Epoch 180: saving model to model/keypoint_classifier\\keypoint_classifier.hdf5\n",
            "32/32 [==============================] - 0s 3ms/step - loss: 0.6106 - accuracy: 0.7668 - val_loss: 0.2758 - val_accuracy: 0.9608\n",
            "Epoch 181/1000\n",
            " 1/32 [..............................] - ETA: 0s - loss: 0.7498 - accuracy: 0.7344\n",
            "Epoch 181: saving model to model/keypoint_classifier\\keypoint_classifier.hdf5\n",
            "32/32 [==============================] - 0s 3ms/step - loss: 0.5974 - accuracy: 0.7726 - val_loss: 0.2793 - val_accuracy: 0.9608\n",
            "Epoch 182/1000\n",
            " 1/32 [..............................] - ETA: 0s - loss: 0.6076 - accuracy: 0.7656\n",
            "Epoch 182: saving model to model/keypoint_classifier\\keypoint_classifier.hdf5\n",
            "32/32 [==============================] - 0s 3ms/step - loss: 0.5919 - accuracy: 0.7779 - val_loss: 0.2764 - val_accuracy: 0.9600\n",
            "Epoch 183/1000\n",
            " 1/32 [..............................] - ETA: 0s - loss: 0.5550 - accuracy: 0.7578\n",
            "Epoch 183: saving model to model/keypoint_classifier\\keypoint_classifier.hdf5\n",
            "32/32 [==============================] - 0s 3ms/step - loss: 0.5941 - accuracy: 0.7653 - val_loss: 0.2786 - val_accuracy: 0.9585\n",
            "Epoch 184/1000\n",
            " 1/32 [..............................] - ETA: 0s - loss: 0.5329 - accuracy: 0.8359\n",
            "Epoch 184: saving model to model/keypoint_classifier\\keypoint_classifier.hdf5\n",
            "32/32 [==============================] - 0s 3ms/step - loss: 0.5790 - accuracy: 0.7844 - val_loss: 0.2690 - val_accuracy: 0.9570\n",
            "Epoch 185/1000\n",
            " 1/32 [..............................] - ETA: 0s - loss: 0.5632 - accuracy: 0.7656\n",
            "Epoch 185: saving model to model/keypoint_classifier\\keypoint_classifier.hdf5\n",
            "32/32 [==============================] - 0s 3ms/step - loss: 0.5843 - accuracy: 0.7723 - val_loss: 0.2660 - val_accuracy: 0.9630\n",
            "Epoch 186/1000\n",
            " 1/32 [..............................] - ETA: 0s - loss: 0.5487 - accuracy: 0.7969\n",
            "Epoch 186: saving model to model/keypoint_classifier\\keypoint_classifier.hdf5\n",
            "32/32 [==============================] - 0s 3ms/step - loss: 0.5889 - accuracy: 0.7753 - val_loss: 0.2752 - val_accuracy: 0.9593\n",
            "Epoch 187/1000\n",
            " 1/32 [..............................] - ETA: 0s - loss: 0.6386 - accuracy: 0.7031\n",
            "Epoch 187: saving model to model/keypoint_classifier\\keypoint_classifier.hdf5\n",
            "32/32 [==============================] - 0s 3ms/step - loss: 0.5872 - accuracy: 0.7696 - val_loss: 0.2747 - val_accuracy: 0.9585\n",
            "Epoch 188/1000\n",
            " 1/32 [..............................] - ETA: 0s - loss: 0.7264 - accuracy: 0.7578\n",
            "Epoch 188: saving model to model/keypoint_classifier\\keypoint_classifier.hdf5\n",
            "32/32 [==============================] - 0s 3ms/step - loss: 0.5781 - accuracy: 0.7766 - val_loss: 0.2780 - val_accuracy: 0.9548\n",
            "Epoch 189/1000\n",
            " 1/32 [..............................] - ETA: 0s - loss: 0.5684 - accuracy: 0.7500\n",
            "Epoch 189: saving model to model/keypoint_classifier\\keypoint_classifier.hdf5\n",
            "32/32 [==============================] - 0s 3ms/step - loss: 0.5777 - accuracy: 0.7789 - val_loss: 0.2751 - val_accuracy: 0.9555\n",
            "Epoch 190/1000\n",
            " 1/32 [..............................] - ETA: 0s - loss: 0.6483 - accuracy: 0.7422\n",
            "Epoch 190: saving model to model/keypoint_classifier\\keypoint_classifier.hdf5\n",
            "32/32 [==============================] - 0s 3ms/step - loss: 0.5927 - accuracy: 0.7711 - val_loss: 0.2781 - val_accuracy: 0.9600\n",
            "Epoch 191/1000\n",
            " 1/32 [..............................] - ETA: 0s - loss: 0.5398 - accuracy: 0.8281\n",
            "Epoch 191: saving model to model/keypoint_classifier\\keypoint_classifier.hdf5\n",
            "32/32 [==============================] - 0s 3ms/step - loss: 0.5596 - accuracy: 0.7864 - val_loss: 0.2665 - val_accuracy: 0.9615\n",
            "Epoch 192/1000\n",
            " 1/32 [..............................] - ETA: 0s - loss: 0.5845 - accuracy: 0.7578\n",
            "Epoch 192: saving model to model/keypoint_classifier\\keypoint_classifier.hdf5\n",
            "32/32 [==============================] - 0s 3ms/step - loss: 0.5698 - accuracy: 0.7801 - val_loss: 0.2694 - val_accuracy: 0.9608\n",
            "Epoch 193/1000\n",
            " 1/32 [..............................] - ETA: 0s - loss: 0.4975 - accuracy: 0.8281\n",
            "Epoch 193: saving model to model/keypoint_classifier\\keypoint_classifier.hdf5\n",
            "32/32 [==============================] - 0s 3ms/step - loss: 0.5912 - accuracy: 0.7706 - val_loss: 0.2686 - val_accuracy: 0.9615\n",
            "Epoch 194/1000\n",
            " 1/32 [..............................] - ETA: 0s - loss: 0.6097 - accuracy: 0.7656\n",
            "Epoch 194: saving model to model/keypoint_classifier\\keypoint_classifier.hdf5\n",
            "32/32 [==============================] - 0s 3ms/step - loss: 0.5696 - accuracy: 0.7864 - val_loss: 0.2694 - val_accuracy: 0.9608\n",
            "Epoch 195/1000\n",
            " 1/32 [..............................] - ETA: 0s - loss: 0.6280 - accuracy: 0.7578\n",
            "Epoch 195: saving model to model/keypoint_classifier\\keypoint_classifier.hdf5\n",
            "32/32 [==============================] - 0s 3ms/step - loss: 0.5897 - accuracy: 0.7761 - val_loss: 0.2688 - val_accuracy: 0.9630\n",
            "Epoch 196/1000\n",
            " 1/32 [..............................] - ETA: 0s - loss: 0.5890 - accuracy: 0.7891\n",
            "Epoch 196: saving model to model/keypoint_classifier\\keypoint_classifier.hdf5\n",
            "32/32 [==============================] - 0s 3ms/step - loss: 0.5658 - accuracy: 0.7847 - val_loss: 0.2698 - val_accuracy: 0.9630\n",
            "Epoch 197/1000\n",
            " 1/32 [..............................] - ETA: 0s - loss: 0.7048 - accuracy: 0.7266\n",
            "Epoch 197: saving model to model/keypoint_classifier\\keypoint_classifier.hdf5\n",
            "32/32 [==============================] - 0s 3ms/step - loss: 0.5771 - accuracy: 0.7801 - val_loss: 0.2673 - val_accuracy: 0.9623\n",
            "Epoch 198/1000\n",
            " 1/32 [..............................] - ETA: 0s - loss: 0.5246 - accuracy: 0.8438\n",
            "Epoch 198: saving model to model/keypoint_classifier\\keypoint_classifier.hdf5\n",
            "32/32 [==============================] - 0s 3ms/step - loss: 0.6062 - accuracy: 0.7701 - val_loss: 0.2798 - val_accuracy: 0.9585\n",
            "Epoch 199/1000\n",
            " 1/32 [..............................] - ETA: 0s - loss: 0.6697 - accuracy: 0.8047\n",
            "Epoch 199: saving model to model/keypoint_classifier\\keypoint_classifier.hdf5\n",
            "32/32 [==============================] - 0s 3ms/step - loss: 0.5771 - accuracy: 0.7819 - val_loss: 0.2765 - val_accuracy: 0.9540\n",
            "Epoch 200/1000\n",
            " 1/32 [..............................] - ETA: 0s - loss: 0.6155 - accuracy: 0.7422\n",
            "Epoch 200: saving model to model/keypoint_classifier\\keypoint_classifier.hdf5\n",
            "32/32 [==============================] - 0s 4ms/step - loss: 0.5855 - accuracy: 0.7816 - val_loss: 0.2730 - val_accuracy: 0.9585\n",
            "Epoch 201/1000\n",
            " 1/32 [..............................] - ETA: 0s - loss: 0.7606 - accuracy: 0.6719\n",
            "Epoch 201: saving model to model/keypoint_classifier\\keypoint_classifier.hdf5\n",
            "32/32 [==============================] - 0s 3ms/step - loss: 0.5916 - accuracy: 0.7748 - val_loss: 0.2755 - val_accuracy: 0.9593\n",
            "Epoch 202/1000\n",
            " 1/32 [..............................] - ETA: 0s - loss: 0.5056 - accuracy: 0.8047\n",
            "Epoch 202: saving model to model/keypoint_classifier\\keypoint_classifier.hdf5\n",
            "32/32 [==============================] - 0s 3ms/step - loss: 0.5734 - accuracy: 0.7796 - val_loss: 0.2729 - val_accuracy: 0.9600\n",
            "Epoch 203/1000\n",
            " 1/32 [..............................] - ETA: 0s - loss: 0.4531 - accuracy: 0.8359\n",
            "Epoch 203: saving model to model/keypoint_classifier\\keypoint_classifier.hdf5\n",
            "32/32 [==============================] - 0s 3ms/step - loss: 0.5709 - accuracy: 0.7824 - val_loss: 0.2718 - val_accuracy: 0.9593\n",
            "Epoch 204/1000\n",
            " 1/32 [..............................] - ETA: 0s - loss: 0.6866 - accuracy: 0.7422\n",
            "Epoch 204: saving model to model/keypoint_classifier\\keypoint_classifier.hdf5\n",
            "32/32 [==============================] - 0s 3ms/step - loss: 0.5968 - accuracy: 0.7728 - val_loss: 0.2723 - val_accuracy: 0.9630\n",
            "Epoch 205/1000\n",
            " 1/32 [..............................] - ETA: 0s - loss: 0.5959 - accuracy: 0.7734\n",
            "Epoch 205: saving model to model/keypoint_classifier\\keypoint_classifier.hdf5\n",
            "32/32 [==============================] - 0s 3ms/step - loss: 0.5688 - accuracy: 0.7791 - val_loss: 0.2715 - val_accuracy: 0.9623\n",
            "Epoch 205: early stopping\n"
          ]
        },
        {
          "data": {
            "text/plain": [
              "<keras.callbacks.History at 0x22fe702cbb0>"
            ]
          },
          "execution_count": 77,
          "metadata": {},
          "output_type": "execute_result"
        }
      ],
      "source": [
        "model.fit(\n",
        "    X_train,\n",
        "    y_train,\n",
        "    epochs=1000,\n",
        "    batch_size=128,\n",
        "    validation_data=(X_test, y_test),\n",
        "    callbacks=[cp_callback, es_callback]\n",
        ")"
      ]
    },
    {
      "cell_type": "code",
      "execution_count": 78,
      "metadata": {
        "colab": {
          "base_uri": "https://localhost:8080/"
        },
        "id": "pxvb2Y299hE3",
        "outputId": "59eb3185-2e37-4b9e-bc9d-ab1b8ac29b7f"
      },
      "outputs": [
        {
          "name": "stdout",
          "output_type": "stream",
          "text": [
            "11/11 [==============================] - 0s 1ms/step - loss: 0.2715 - accuracy: 0.9623\n"
          ]
        }
      ],
      "source": [
        "# Model evaluation\n",
        "val_loss, val_acc = model.evaluate(X_test, y_test, batch_size=128)"
      ]
    },
    {
      "cell_type": "code",
      "execution_count": 79,
      "metadata": {
        "id": "RBkmDeUW9hE4"
      },
      "outputs": [],
      "source": [
        "# Loading the saved model\n",
        "model = tf.keras.models.load_model(model_save_path)"
      ]
    },
    {
      "cell_type": "code",
      "execution_count": 80,
      "metadata": {
        "colab": {
          "base_uri": "https://localhost:8080/"
        },
        "id": "tFz9Tb0I9hE4",
        "outputId": "1c3b3528-54ae-4ee2-ab04-77429211cbef"
      },
      "outputs": [
        {
          "name": "stdout",
          "output_type": "stream",
          "text": [
            "1/1 [==============================] - 0s 47ms/step\n",
            "[8.0260640e-01 1.8689243e-01 2.0600383e-03 7.7773472e-03 2.0440739e-07\n",
            " 6.6347548e-04]\n",
            "0\n"
          ]
        }
      ],
      "source": [
        "# Inference test\n",
        "predict_result = model.predict(np.array([X_test[0]]))\n",
        "print(np.squeeze(predict_result))\n",
        "print(np.argmax(np.squeeze(predict_result)))"
      ]
    },
    {
      "cell_type": "markdown",
      "metadata": {
        "id": "S3U4yNWx9hE4"
      },
      "source": [
        "# Confusion matrix"
      ]
    },
    {
      "cell_type": "code",
      "execution_count": 81,
      "metadata": {
        "colab": {
          "base_uri": "https://localhost:8080/",
          "height": 582
        },
        "id": "AP1V6SCk9hE5",
        "outputId": "08e41a80-7a4a-4619-8125-ecc371368d19"
      },
      "outputs": [
        {
          "name": "stdout",
          "output_type": "stream",
          "text": [
            "42/42 [==============================] - 0s 829us/step\n"
          ]
        },
        {
          "data": {
            "image/png": "[encoded data removed]",
            "text/plain": [
              "<Figure size 700x600 with 2 Axes>"
            ]
          },
          "metadata": {},
          "output_type": "display_data"
        },
        {
          "name": "stdout",
          "output_type": "stream",
          "text": [
            "Classification Report\n",
            "              precision    recall  f1-score   support\n",
            "\n",
            "           0       0.98      0.97      0.97       408\n",
            "           1       0.98      0.93      0.95       376\n",
            "           2       0.94      0.97      0.96       339\n",
            "           3       1.00      1.00      1.00        83\n",
            "           4       1.00      0.99      0.99        73\n",
            "           5       0.81      0.98      0.88        47\n",
            "\n",
            "    accuracy                           0.96      1326\n",
            "   macro avg       0.95      0.97      0.96      1326\n",
            "weighted avg       0.96      0.96      0.96      1326\n",
            "\n"
          ]
        }
      ],
      "source": [
        "import pandas as pd\n",
        "import seaborn as sns\n",
        "import matplotlib.pyplot as plt\n",
        "from sklearn.metrics import confusion_matrix, classification_report\n",
        "\n",
        "def print_confusion_matrix(y_true, y_pred, report=True):\n",
        "    labels = sorted(list(set(y_true)))\n",
        "    cmx_data = confusion_matrix(y_true, y_pred, labels=labels)\n",
        "    \n",
        "    df_cmx = pd.DataFrame(cmx_data, index=labels, columns=labels)\n",
        " \n",
        "    fig, ax = plt.subplots(figsize=(7, 6))\n",
        "    sns.heatmap(df_cmx, annot=True, fmt='g' ,square=False)\n",
        "    ax.set_ylim(len(set(y_true)), 0)\n",
        "    plt.show()\n",
        "    \n",
        "    if report:\n",
        "        print('Classification Report')\n",
        "        print(classification_report(y_test, y_pred))\n",
        "\n",
        "Y_pred = model.predict(X_test)\n",
        "y_pred = np.argmax(Y_pred, axis=1)\n",
        "\n",
        "print_confusion_matrix(y_test, y_pred)"
      ]
    },
    {
      "cell_type": "markdown",
      "metadata": {
        "id": "FNP6aqzc9hE5"
      },
      "source": [
        "# Convert to model for Tensorflow-Lite"
      ]
    },
    {
      "cell_type": "code",
      "execution_count": 82,
      "metadata": {
        "id": "ODjnYyld9hE6"
      },
      "outputs": [],
      "source": [
        "# Save as a model dedicated to inference\n",
        "model.save(model_save_path, include_optimizer=False)"
      ]
    },
    {
      "cell_type": "code",
      "execution_count": 83,
      "metadata": {
        "colab": {
          "base_uri": "https://localhost:8080/"
        },
        "id": "zRfuK8Y59hE6",
        "outputId": "a4ca585c-b5d5-4244-8291-8674063209bb"
      },
      "outputs": [
        {
          "name": "stdout",
          "output_type": "stream",
          "text": [
            "INFO:tensorflow:Assets written to: C:\\Users\\KONDOM~1\\AppData\\Local\\Temp\\tmpq8qxyjum\\assets\n"
          ]
        },
        {
          "name": "stderr",
          "output_type": "stream",
          "text": [
            "INFO:tensorflow:Assets written to: C:\\Users\\KONDOM~1\\AppData\\Local\\Temp\\tmpq8qxyjum\\assets\n"
          ]
        },
        {
          "data": {
            "text/plain": [
              "6696"
            ]
          },
          "execution_count": 83,
          "metadata": {},
          "output_type": "execute_result"
        }
      ],
      "source": [
        "# Transform model (quantization)\n",
        "\n",
        "converter = tf.lite.TFLiteConverter.from_keras_model(model)\n",
        "converter.optimizations = [tf.lite.Optimize.DEFAULT]\n",
        "tflite_quantized_model = converter.convert()\n",
        "\n",
        "open(tflite_save_path, 'wb').write(tflite_quantized_model)"
      ]
    },
    {
      "cell_type": "markdown",
      "metadata": {
        "id": "CHBPBXdx9hE6"
      },
      "source": [
        "# Inference test"
      ]
    },
    {
      "cell_type": "code",
      "execution_count": 84,
      "metadata": {
        "id": "mGAzLocO9hE7"
      },
      "outputs": [],
      "source": [
        "interpreter = tf.lite.Interpreter(model_path=tflite_save_path)\n",
        "interpreter.allocate_tensors()"
      ]
    },
    {
      "cell_type": "code",
      "execution_count": 85,
      "metadata": {
        "id": "oQuDK8YS9hE7"
      },
      "outputs": [],
      "source": [
        "# Get I / O tensor\n",
        "input_details = interpreter.get_input_details()\n",
        "output_details = interpreter.get_output_details()"
      ]
    },
    {
      "cell_type": "code",
      "execution_count": 86,
      "metadata": {
        "id": "2_ixAf_l9hE7"
      },
      "outputs": [],
      "source": [
        "interpreter.set_tensor(input_details[0]['index'], np.array([X_test[0]]))"
      ]
    },
    {
      "cell_type": "code",
      "execution_count": 87,
      "metadata": {
        "colab": {
          "base_uri": "https://localhost:8080/"
        },
        "id": "s4FoAnuc9hE7",
        "outputId": "91f18257-8d8b-4ef3-c558-e9b5f94fabbf",
        "scrolled": true
      },
      "outputs": [
        {
          "name": "stdout",
          "output_type": "stream",
          "text": [
            "CPU times: total: 0 ns\n",
            "Wall time: 0 ns\n"
          ]
        }
      ],
      "source": [
        "%%time\n",
        "# Inference implementation\n",
        "interpreter.invoke()\n",
        "tflite_results = interpreter.get_tensor(output_details[0]['index'])"
      ]
    },
    {
      "cell_type": "code",
      "execution_count": 88,
      "metadata": {
        "colab": {
          "base_uri": "https://localhost:8080/"
        },
        "id": "vONjp19J9hE8",
        "outputId": "77205e24-fd00-42c4-f7b6-e06e527c2cba"
      },
      "outputs": [
        {
          "name": "stdout",
          "output_type": "stream",
          "text": [
            "[8.0260664e-01 1.8689232e-01 2.0600380e-03 7.7773458e-03 2.0440706e-07\n",
            " 6.6347531e-04]\n",
            "0\n"
          ]
        }
      ],
      "source": [
        "print(np.squeeze(tflite_results))\n",
        "print(np.argmax(np.squeeze(tflite_results)))"
      ]
    }
  ],
  "metadata": {
    "accelerator": "GPU",
    "colab": {
      "collapsed_sections": [],
      "name": "keypoint_classification_EN.ipynb",
      "provenance": [],
      "toc_visible": true
    },
    "kernelspec": {
      "display_name": "Python 3.10.4 ('motion-project')",
      "language": "python",
      "name": "python3"
    },
    "language_info": {
      "codemirror_mode": {
        "name": "ipython",
        "version": 3
      },
      "file_extension": ".py",
      "mimetype": "text/x-python",
      "name": "python",
      "nbconvert_exporter": "python",
      "pygments_lexer": "ipython3",
      "version": "3.10.4"
    },
    "vscode": {
      "interpreter": {
        "hash": "c0eb5b968819a12444ab44b87c874b634f939342cd7ff646fdc68a14d1a58bdd"
      }
    }
  },
  "nbformat": 4,
  "nbformat_minor": 0
}
